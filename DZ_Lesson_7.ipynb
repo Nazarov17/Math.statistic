{
 "cells": [
  {
   "cell_type": "markdown",
   "id": "274901d9-70e4-419c-9aad-113b8f9115dd",
   "metadata": {},
   "source": [
    "__Задача 1__\n",
    "\n",
    "Дана матрица объект-признак и значения целевой переменной.\n",
    "Подберите два признака (из четырёх) так, чтобы уровень линейной зависимости целевой переменной от значений этих признаков был максимальным. Другими словами, модель линейной регрессии на этих признаках должна давать максимальный R2. Например, берем признак х1 и х3 и строим модель y = b0 + b1 * x1 + b2 * x3, затем признаки x2 и x1 и тд\n",
    "Является ли значимым получившееся уравнение регрессии?\n"
   ]
  },
  {
   "cell_type": "code",
   "execution_count": 91,
   "id": "01e5cd4e-75e9-4c8e-b505-69852d5864eb",
   "metadata": {},
   "outputs": [],
   "source": [
    "x = np.array([[ 1.22401313, 2.30868478, 3.03636353, 2.69287214],\n",
    "[-0.18757272, 1.30337355, 5.12093014, 3.46363202],\n",
    "[-0.81094525, 1.82463398, 5.79686488, 1.86159445],\n",
    "[ 0.75129018, 2.67392052, 3.65529809, 1.66746094],\n",
    "[ 0.00972362, 1.97367255, 2.50594319, 1.69755173],\n",
    "[-0.62972637, 0.77750764, 2.84124027, 4.54410559],\n",
    "[ 2.29536229, 1.81206697, 1.95026215, 1.51874636],\n",
    "[ 0.0920418 , 2.26971361, 7.47708735, 2.61081203],\n",
    "[ 2.39252799, 3.17563985, 3.61420599, 5.10773362],\n",
    "[ 0.54983815, 2.87988651, 1.65752765, 1.59635987]])"
   ]
  },
  {
   "cell_type": "code",
   "execution_count": 92,
   "id": "55084404-3476-4e3c-8bbb-421cf41ba7fe",
   "metadata": {},
   "outputs": [],
   "source": [
    "y = np.array([ 9.26193358, 9.700363 , 8.67214805, 8.74796974, 6.18689108,\n",
    "7.53312713, 7.57643777, 12.44965478, 14.29010746, 6.68361218])"
   ]
  },
  {
   "cell_type": "code",
   "execution_count": 93,
   "id": "d208e991-f6d2-446f-8b1b-079ca1047d6e",
   "metadata": {},
   "outputs": [],
   "source": [
    "from scipy import stats\n",
    "import warnings\n",
    "import numpy as np\n",
    "import pandas as pd\n",
    "from matplotlib import pyplot as plt\n",
    "import math"
   ]
  },
  {
   "cell_type": "markdown",
   "id": "72447510-9fdd-4b01-8b6c-babdc94e7159",
   "metadata": {},
   "source": [
    "Возьмём признаки 1 и 2 из массива х:"
   ]
  },
  {
   "cell_type": "code",
   "execution_count": 94,
   "id": "999af25b-95d3-4014-8313-e26a9c6e9d4d",
   "metadata": {},
   "outputs": [
    {
     "data": {
      "text/plain": [
       "array([[ 1.22401313,  2.30868478],\n",
       "       [-0.18757272,  1.30337355],\n",
       "       [-0.81094525,  1.82463398],\n",
       "       [ 0.75129018,  2.67392052],\n",
       "       [ 0.00972362,  1.97367255],\n",
       "       [-0.62972637,  0.77750764],\n",
       "       [ 2.29536229,  1.81206697],\n",
       "       [ 0.0920418 ,  2.26971361],\n",
       "       [ 2.39252799,  3.17563985],\n",
       "       [ 0.54983815,  2.87988651]])"
      ]
     },
     "execution_count": 94,
     "metadata": {},
     "output_type": "execute_result"
    }
   ],
   "source": [
    "x_12 = (x[:, :2])\n",
    "x_12"
   ]
  },
  {
   "cell_type": "markdown",
   "id": "1f4cea5a-0a31-4351-8cf3-56f6db56322f",
   "metadata": {},
   "source": [
    "К матрице Х (массив х_12) нужно также добавить столбец из  1 , соответствующий фиктивному фактору:"
   ]
  },
  {
   "cell_type": "code",
   "execution_count": 95,
   "id": "4406dfa8-58e7-4e98-88a1-1767594d2e5c",
   "metadata": {},
   "outputs": [
    {
     "data": {
      "text/plain": [
       "array([[ 1.        ,  1.22401313,  2.30868478],\n",
       "       [ 1.        , -0.18757272,  1.30337355],\n",
       "       [ 1.        , -0.81094525,  1.82463398],\n",
       "       [ 1.        ,  0.75129018,  2.67392052],\n",
       "       [ 1.        ,  0.00972362,  1.97367255],\n",
       "       [ 1.        , -0.62972637,  0.77750764],\n",
       "       [ 1.        ,  2.29536229,  1.81206697],\n",
       "       [ 1.        ,  0.0920418 ,  2.26971361],\n",
       "       [ 1.        ,  2.39252799,  3.17563985],\n",
       "       [ 1.        ,  0.54983815,  2.87988651]])"
      ]
     },
     "execution_count": 95,
     "metadata": {},
     "output_type": "execute_result"
    }
   ],
   "source": [
    "ones = np.ones((x_12.shape[0], 1))\n",
    "x_12 = np.hstack((ones, x_12))\n",
    "x_12"
   ]
  },
  {
   "cell_type": "markdown",
   "id": "e808fbd0-a144-4983-8cbc-a7a85f5d396a",
   "metadata": {},
   "source": [
    "Запишем матрицу  𝑋⊤𝑋  и посчитаем её определитель."
   ]
  },
  {
   "cell_type": "code",
   "execution_count": 96,
   "id": "9d63247d-3197-4b43-8fe8-5c9e72733fb8",
   "metadata": {},
   "outputs": [
    {
     "data": {
      "text/plain": [
       "349.7782033818847"
      ]
     },
     "execution_count": 96,
     "metadata": {},
     "output_type": "execute_result"
    }
   ],
   "source": [
    "XTX = x_12.T.dot(x_12)\n",
    "\n",
    "np.linalg.det(XTX)"
   ]
  },
  {
   "cell_type": "markdown",
   "id": "5d46c43d-4a0c-4991-b818-1378ab2c87c3",
   "metadata": {},
   "source": [
    "Так как определитель равен 0, выбираем другую пару признаков из массива х:"
   ]
  },
  {
   "cell_type": "markdown",
   "id": "95690e8a-e015-4c23-bed2-5c89254f6f58",
   "metadata": {},
   "source": [
    "Выберем пару признаков х1 и х3:"
   ]
  },
  {
   "cell_type": "code",
   "execution_count": 97,
   "id": "c7faf2e1-7631-4184-bb26-cc8d6cd67ee8",
   "metadata": {},
   "outputs": [
    {
     "data": {
      "text/plain": [
       "array([[ 1.22401313,  3.03636353],\n",
       "       [-0.18757272,  5.12093014],\n",
       "       [-0.81094525,  5.79686488],\n",
       "       [ 0.75129018,  3.65529809],\n",
       "       [ 0.00972362,  2.50594319],\n",
       "       [-0.62972637,  2.84124027],\n",
       "       [ 2.29536229,  1.95026215],\n",
       "       [ 0.0920418 ,  7.47708735],\n",
       "       [ 2.39252799,  3.61420599],\n",
       "       [ 0.54983815,  1.65752765]])"
      ]
     },
     "execution_count": 97,
     "metadata": {},
     "output_type": "execute_result"
    }
   ],
   "source": [
    "x_13 = (x[:, :3:2])\n",
    "x_13"
   ]
  },
  {
   "cell_type": "code",
   "execution_count": 98,
   "id": "f9d3f36d-9baa-46d7-928b-e711a478827c",
   "metadata": {},
   "outputs": [
    {
     "data": {
      "text/plain": [
       "array([[ 1.        ,  1.22401313,  3.03636353],\n",
       "       [ 1.        , -0.18757272,  5.12093014],\n",
       "       [ 1.        , -0.81094525,  5.79686488],\n",
       "       [ 1.        ,  0.75129018,  3.65529809],\n",
       "       [ 1.        ,  0.00972362,  2.50594319],\n",
       "       [ 1.        , -0.62972637,  2.84124027],\n",
       "       [ 1.        ,  2.29536229,  1.95026215],\n",
       "       [ 1.        ,  0.0920418 ,  7.47708735],\n",
       "       [ 1.        ,  2.39252799,  3.61420599],\n",
       "       [ 1.        ,  0.54983815,  1.65752765]])"
      ]
     },
     "execution_count": 98,
     "metadata": {},
     "output_type": "execute_result"
    }
   ],
   "source": [
    "ones = np.ones((x_13.shape[0], 1))\n",
    "x_13 = np.hstack((ones, x_13))\n",
    "x_13"
   ]
  },
  {
   "cell_type": "code",
   "execution_count": 99,
   "id": "0c90a9cc-5ccc-40cd-bfeb-d3eef187c666",
   "metadata": {},
   "outputs": [
    {
     "data": {
      "text/plain": [
       "2835.3600226240965"
      ]
     },
     "execution_count": 99,
     "metadata": {},
     "output_type": "execute_result"
    }
   ],
   "source": [
    "XTX = x_13.T.dot(x_13)\n",
    "\n",
    "np.linalg.det(XTX)"
   ]
  },
  {
   "cell_type": "markdown",
   "id": "ba211f99-a5cf-44f3-b493-f954c4e45fcf",
   "metadata": {},
   "source": [
    "Так как определитель не близок к нулю, поэтому проблем с методом нет. Коэффициенты модели:"
   ]
  },
  {
   "cell_type": "code",
   "execution_count": 100,
   "id": "24d0ac87-d093-4f16-8bfd-1ddfb91859bb",
   "metadata": {},
   "outputs": [
    {
     "name": "stdout",
     "output_type": "stream",
     "text": [
      "[3.62455695 1.62531203 1.21134979]\n"
     ]
    }
   ],
   "source": [
    "XTX_inv = np.linalg.inv(XTX)\n",
    "\n",
    "b = XTX_inv.dot(x_13.T).dot(y)\n",
    "\n",
    "print(b)"
   ]
  },
  {
   "cell_type": "markdown",
   "id": "736b9b41-6b35-4010-8435-2b3c9f8be5e8",
   "metadata": {},
   "source": [
    "Модель регрессии имеет вид:\n",
    "$$y = 3.624 - 1.625 \\cdot x_1 + 1.211 \\cdot x_2,$$"
   ]
  },
  {
   "cell_type": "markdown",
   "id": "8955d16d-06bc-4ec6-94fb-bde2ba5b7f90",
   "metadata": {},
   "source": [
    "Посчитаем коэффициент детерминации для оценки качества модели:"
   ]
  },
  {
   "cell_type": "code",
   "execution_count": 101,
   "id": "18b4e48f-76e7-4032-b8ed-4f841e14dd65",
   "metadata": {},
   "outputs": [
    {
     "data": {
      "text/plain": [
       "array([ 9.29205855,  9.52293042,  9.32854895,  9.2734825 ,  6.67593463,\n",
       "        6.04279092,  9.71768655, 12.83152181, 11.89122916,  6.52606129])"
      ]
     },
     "execution_count": 101,
     "metadata": {},
     "output_type": "execute_result"
    }
   ],
   "source": [
    "z_13 = x_13.dot(b)\n",
    "z_13"
   ]
  },
  {
   "cell_type": "code",
   "execution_count": 102,
   "id": "08872d55-dbd9-4333-aa85-1433f12ae8f5",
   "metadata": {},
   "outputs": [],
   "source": [
    "def sum_of_squares(samples):\n",
    "    return ((samples - samples.mean()) ** 2).sum()"
   ]
  },
  {
   "cell_type": "code",
   "execution_count": 103,
   "id": "14e43f52-fe67-4592-b912-0f7be988964b",
   "metadata": {},
   "outputs": [
    {
     "data": {
      "text/plain": [
       "0.7634246238793151"
      ]
     },
     "execution_count": 103,
     "metadata": {},
     "output_type": "execute_result"
    }
   ],
   "source": [
    "R2 = 1 - ((y - z_13)**2).sum() / sum_of_squares(y)\n",
    "R2"
   ]
  },
  {
   "cell_type": "markdown",
   "id": "79ea89bf-d8bf-4051-8247-ba8a8764f272",
   "metadata": {},
   "source": [
    "Коэффициент детерминации для модели х_13 = 0.763."
   ]
  },
  {
   "cell_type": "markdown",
   "id": "5711be55-570c-40b7-91e1-ff24faace778",
   "metadata": {},
   "source": [
    "Выберем пару признаков х1 и х4:"
   ]
  },
  {
   "cell_type": "code",
   "execution_count": 104,
   "id": "3c2dcf8d-5aea-4b4e-9115-fd6862dc99ce",
   "metadata": {},
   "outputs": [
    {
     "data": {
      "text/plain": [
       "array([[ 1.22401313,  2.69287214],\n",
       "       [-0.18757272,  3.46363202],\n",
       "       [-0.81094525,  1.86159445],\n",
       "       [ 0.75129018,  1.66746094],\n",
       "       [ 0.00972362,  1.69755173],\n",
       "       [-0.62972637,  4.54410559],\n",
       "       [ 2.29536229,  1.51874636],\n",
       "       [ 0.0920418 ,  2.61081203],\n",
       "       [ 2.39252799,  5.10773362],\n",
       "       [ 0.54983815,  1.59635987]])"
      ]
     },
     "execution_count": 104,
     "metadata": {},
     "output_type": "execute_result"
    }
   ],
   "source": [
    "x_14 = (x[:, :4:3])\n",
    "x_14"
   ]
  },
  {
   "cell_type": "code",
   "execution_count": 105,
   "id": "c53e7297-dcc4-4fbe-8915-705dc2a0d63a",
   "metadata": {},
   "outputs": [
    {
     "data": {
      "text/plain": [
       "array([[ 1.        ,  1.22401313,  2.69287214],\n",
       "       [ 1.        , -0.18757272,  3.46363202],\n",
       "       [ 1.        , -0.81094525,  1.86159445],\n",
       "       [ 1.        ,  0.75129018,  1.66746094],\n",
       "       [ 1.        ,  0.00972362,  1.69755173],\n",
       "       [ 1.        , -0.62972637,  4.54410559],\n",
       "       [ 1.        ,  2.29536229,  1.51874636],\n",
       "       [ 1.        ,  0.0920418 ,  2.61081203],\n",
       "       [ 1.        ,  2.39252799,  5.10773362],\n",
       "       [ 1.        ,  0.54983815,  1.59635987]])"
      ]
     },
     "execution_count": 105,
     "metadata": {},
     "output_type": "execute_result"
    }
   ],
   "source": [
    "ones = np.ones((x_14.shape[0], 1))\n",
    "x_14 = np.hstack((ones, x_14))\n",
    "x_14"
   ]
  },
  {
   "cell_type": "code",
   "execution_count": 106,
   "id": "94b71d48-45b3-4e8e-82ef-dca9bd535f2a",
   "metadata": {},
   "outputs": [
    {
     "data": {
      "text/plain": [
       "1689.2124743606082"
      ]
     },
     "execution_count": 106,
     "metadata": {},
     "output_type": "execute_result"
    }
   ],
   "source": [
    "XTX = x_14.T.dot(x_14)\n",
    "\n",
    "np.linalg.det(XTX)"
   ]
  },
  {
   "cell_type": "markdown",
   "id": "eb00a5ae-26cc-4ac6-8240-daa8366c9e8f",
   "metadata": {},
   "source": [
    "Так как определитель не близок к нулю, поэтому проблем с методом нет. Коэффициенты модели:"
   ]
  },
  {
   "cell_type": "code",
   "execution_count": 107,
   "id": "06597899-726a-4ce3-919d-c50bc954588a",
   "metadata": {},
   "outputs": [
    {
     "name": "stdout",
     "output_type": "stream",
     "text": [
      "[5.70686123 0.68359949 1.12650707]\n"
     ]
    }
   ],
   "source": [
    "XTX_inv = np.linalg.inv(XTX)\n",
    "\n",
    "b = XTX_inv.dot(x_14.T).dot(y)\n",
    "\n",
    "print(b)"
   ]
  },
  {
   "cell_type": "markdown",
   "id": "ceb11974-535f-4a17-a223-2e0afd2369b1",
   "metadata": {},
   "source": [
    "Модель регрессии имеет вид:\n",
    "$$y = 5.707 - 0.684 \\cdot x_1 + 1.127 \\cdot x_2,$$"
   ]
  },
  {
   "cell_type": "code",
   "execution_count": 108,
   "id": "0183c05d-ecef-4e1d-b6f1-d2e4079cf84b",
   "metadata": {},
   "outputs": [
    {
     "data": {
      "text/plain": [
       "array([ 9.57713548,  9.48044258,  7.24959879,  8.09884935,  7.62581232,\n",
       "       10.39534769,  8.98684823,  8.71087917, 13.09629017,  7.88104099])"
      ]
     },
     "execution_count": 108,
     "metadata": {},
     "output_type": "execute_result"
    }
   ],
   "source": [
    "z_14 = x_14.dot(b)\n",
    "z_14"
   ]
  },
  {
   "cell_type": "code",
   "execution_count": 109,
   "id": "b6f5d8eb-4a49-41e1-a8c6-b02d8f79edaf",
   "metadata": {},
   "outputs": [
    {
     "data": {
      "text/plain": [
       "0.4532966783144079"
      ]
     },
     "execution_count": 109,
     "metadata": {},
     "output_type": "execute_result"
    }
   ],
   "source": [
    "R2 = 1 - ((y - z_14)**2).sum() / sum_of_squares(y)\n",
    "R2"
   ]
  },
  {
   "cell_type": "markdown",
   "id": "8c467b22-0c0d-410b-959b-ed9bfda5b7ef",
   "metadata": {},
   "source": [
    "Коэффициент детерминации для модели х_14 = 0.453, что достаточно мало, так как около 55% дисперсии переменной у не объясняются в рамках данной модели"
   ]
  },
  {
   "cell_type": "markdown",
   "id": "0208c49e-343c-436f-98a8-d89ce6bb9558",
   "metadata": {},
   "source": [
    "Выберем пару признаков х2 и х3:"
   ]
  },
  {
   "cell_type": "code",
   "execution_count": 110,
   "id": "e5d8a62a-ce9e-4692-930e-f3953cdd8c1b",
   "metadata": {},
   "outputs": [
    {
     "data": {
      "text/plain": [
       "array([[2.30868478, 3.03636353],\n",
       "       [1.30337355, 5.12093014],\n",
       "       [1.82463398, 5.79686488],\n",
       "       [2.67392052, 3.65529809],\n",
       "       [1.97367255, 2.50594319],\n",
       "       [0.77750764, 2.84124027],\n",
       "       [1.81206697, 1.95026215],\n",
       "       [2.26971361, 7.47708735],\n",
       "       [3.17563985, 3.61420599],\n",
       "       [2.87988651, 1.65752765]])"
      ]
     },
     "execution_count": 110,
     "metadata": {},
     "output_type": "execute_result"
    }
   ],
   "source": [
    "x_23 = (x[:, 1:3])\n",
    "x_23"
   ]
  },
  {
   "cell_type": "code",
   "execution_count": 111,
   "id": "77b1693c-517e-4a06-8423-b3e42e742dec",
   "metadata": {},
   "outputs": [
    {
     "data": {
      "text/plain": [
       "array([[1.        , 2.30868478, 3.03636353],\n",
       "       [1.        , 1.30337355, 5.12093014],\n",
       "       [1.        , 1.82463398, 5.79686488],\n",
       "       [1.        , 2.67392052, 3.65529809],\n",
       "       [1.        , 1.97367255, 2.50594319],\n",
       "       [1.        , 0.77750764, 2.84124027],\n",
       "       [1.        , 1.81206697, 1.95026215],\n",
       "       [1.        , 2.26971361, 7.47708735],\n",
       "       [1.        , 3.17563985, 3.61420599],\n",
       "       [1.        , 2.87988651, 1.65752765]])"
      ]
     },
     "execution_count": 111,
     "metadata": {},
     "output_type": "execute_result"
    }
   ],
   "source": [
    "ones = np.ones((x_23.shape[0], 1))\n",
    "x_23 = np.hstack((ones, x_23))\n",
    "x_23"
   ]
  },
  {
   "cell_type": "code",
   "execution_count": 112,
   "id": "e2123cac-9ff2-4780-a338-af7dada3eb35",
   "metadata": {},
   "outputs": [
    {
     "data": {
      "text/plain": [
       "1427.8125776081495"
      ]
     },
     "execution_count": 112,
     "metadata": {},
     "output_type": "execute_result"
    }
   ],
   "source": [
    "XTX = x_23.T.dot(x_23)\n",
    "\n",
    "np.linalg.det(XTX)"
   ]
  },
  {
   "cell_type": "markdown",
   "id": "60deea93-281d-49fb-9b8b-3e6af2de71ed",
   "metadata": {},
   "source": [
    "Так как определитель не близок к нулю, поэтому проблем с методом нет. Коэффициенты модели:"
   ]
  },
  {
   "cell_type": "code",
   "execution_count": 113,
   "id": "60e55dd0-dd18-4f4f-96c1-f49d2e0523d7",
   "metadata": {},
   "outputs": [
    {
     "name": "stdout",
     "output_type": "stream",
     "text": [
      "[2.48896193 1.60611956 0.86269915]\n"
     ]
    }
   ],
   "source": [
    "XTX_inv = np.linalg.inv(XTX)\n",
    "\n",
    "b = XTX_inv.dot(x_23.T).dot(y)\n",
    "\n",
    "print(b)"
   ]
  },
  {
   "cell_type": "code",
   "execution_count": 114,
   "id": "fb32b858-9abb-408e-b164-705adcfda6d0",
   "metadata": {},
   "outputs": [
    {
     "data": {
      "text/plain": [
       "0.547948273403901"
      ]
     },
     "execution_count": 114,
     "metadata": {},
     "output_type": "execute_result"
    }
   ],
   "source": [
    "z_23 = x_23.dot(b)\n",
    "R2 = 1 - ((y - z_23)**2).sum() / sum_of_squares(y)\n",
    "R2"
   ]
  },
  {
   "cell_type": "markdown",
   "id": "3622df97-002c-484d-b6f8-1d673fe08ea9",
   "metadata": {},
   "source": [
    "Коэффициент детерминации для модели х_23 = 0.578"
   ]
  },
  {
   "cell_type": "markdown",
   "id": "86a548c5-1d9d-4191-aa70-1e5f7d745ffc",
   "metadata": {},
   "source": [
    "Выберем пару признаков х2 и х4:"
   ]
  },
  {
   "cell_type": "code",
   "execution_count": 115,
   "id": "36fbf4f4-79a1-4e81-8687-52f0191ee1e5",
   "metadata": {},
   "outputs": [
    {
     "data": {
      "text/plain": [
       "array([[2.30868478, 2.69287214],\n",
       "       [1.30337355, 3.46363202],\n",
       "       [1.82463398, 1.86159445],\n",
       "       [2.67392052, 1.66746094],\n",
       "       [1.97367255, 1.69755173],\n",
       "       [0.77750764, 4.54410559],\n",
       "       [1.81206697, 1.51874636],\n",
       "       [2.26971361, 2.61081203],\n",
       "       [3.17563985, 5.10773362],\n",
       "       [2.87988651, 1.59635987]])"
      ]
     },
     "execution_count": 115,
     "metadata": {},
     "output_type": "execute_result"
    }
   ],
   "source": [
    "x_24 = (x[:, 1:4:2])\n",
    "x_24"
   ]
  },
  {
   "cell_type": "code",
   "execution_count": 116,
   "id": "0b0fc307-e2f9-4937-88ad-da0d5c4a3296",
   "metadata": {},
   "outputs": [
    {
     "data": {
      "text/plain": [
       "array([[1.        , 2.30868478, 2.69287214],\n",
       "       [1.        , 1.30337355, 3.46363202],\n",
       "       [1.        , 1.82463398, 1.86159445],\n",
       "       [1.        , 2.67392052, 1.66746094],\n",
       "       [1.        , 1.97367255, 1.69755173],\n",
       "       [1.        , 0.77750764, 4.54410559],\n",
       "       [1.        , 1.81206697, 1.51874636],\n",
       "       [1.        , 2.26971361, 2.61081203],\n",
       "       [1.        , 3.17563985, 5.10773362],\n",
       "       [1.        , 2.87988651, 1.59635987]])"
      ]
     },
     "execution_count": 116,
     "metadata": {},
     "output_type": "execute_result"
    }
   ],
   "source": [
    "ones = np.ones((x_24.shape[0], 1))\n",
    "x_24 = np.hstack((ones, x_24))\n",
    "x_24"
   ]
  },
  {
   "cell_type": "code",
   "execution_count": 117,
   "id": "e4daa153-56f8-4eab-8df1-391c71739131",
   "metadata": {},
   "outputs": [
    {
     "data": {
      "text/plain": [
       "701.732736445317"
      ]
     },
     "execution_count": 117,
     "metadata": {},
     "output_type": "execute_result"
    }
   ],
   "source": [
    "XTX = x_24.T.dot(x_24)\n",
    "\n",
    "np.linalg.det(XTX)"
   ]
  },
  {
   "cell_type": "markdown",
   "id": "336f450d-5495-48b4-b583-87bb8283a8ad",
   "metadata": {},
   "source": [
    "Так как определитель не близок к нулю, проблем с методом нет. Находим коэффициенты модели:"
   ]
  },
  {
   "cell_type": "code",
   "execution_count": 118,
   "id": "98635c72-bc28-4c69-8d79-5008d8b033b6",
   "metadata": {},
   "outputs": [
    {
     "name": "stdout",
     "output_type": "stream",
     "text": [
      "[1.91685221 1.74373667 1.31971882]\n"
     ]
    }
   ],
   "source": [
    "XTX_inv = np.linalg.inv(XTX)\n",
    "\n",
    "b = XTX_inv.dot(x_24.T).dot(y)\n",
    "\n",
    "print(b)"
   ]
  },
  {
   "cell_type": "code",
   "execution_count": 119,
   "id": "1c7d97c5-7f07-466e-a66a-b8cbda17ae0f",
   "metadata": {},
   "outputs": [
    {
     "data": {
      "text/plain": [
       "0.6062055761129932"
      ]
     },
     "execution_count": 119,
     "metadata": {},
     "output_type": "execute_result"
    }
   ],
   "source": [
    "z_24 = x_24.dot(b)\n",
    "R2 = 1 - ((y - z_24)**2).sum() / sum_of_squares(y)\n",
    "R2"
   ]
  },
  {
   "cell_type": "markdown",
   "id": "af36b3c9-6ae8-4310-aa6c-627463decbeb",
   "metadata": {},
   "source": [
    "Коэффициент детерминации для модели х_24 = 0.606"
   ]
  },
  {
   "cell_type": "markdown",
   "id": "1b52bc9b-ec40-424e-b7f1-272a868df549",
   "metadata": {},
   "source": [
    "Выберем пару признаков х3 и х4:"
   ]
  },
  {
   "cell_type": "code",
   "execution_count": 120,
   "id": "2e1538ef-1e19-4409-b61e-7c86d5220c41",
   "metadata": {},
   "outputs": [
    {
     "data": {
      "text/plain": [
       "array([[3.03636353, 2.69287214],\n",
       "       [5.12093014, 3.46363202],\n",
       "       [5.79686488, 1.86159445],\n",
       "       [3.65529809, 1.66746094],\n",
       "       [2.50594319, 1.69755173],\n",
       "       [2.84124027, 4.54410559],\n",
       "       [1.95026215, 1.51874636],\n",
       "       [7.47708735, 2.61081203],\n",
       "       [3.61420599, 5.10773362],\n",
       "       [1.65752765, 1.59635987]])"
      ]
     },
     "execution_count": 120,
     "metadata": {},
     "output_type": "execute_result"
    }
   ],
   "source": [
    "x_34 = (x[:, 2:4])\n",
    "x_34"
   ]
  },
  {
   "cell_type": "code",
   "execution_count": 121,
   "id": "b204c6ca-f9d5-4419-9705-2196d09ff2fa",
   "metadata": {},
   "outputs": [
    {
     "data": {
      "text/plain": [
       "array([[1.        , 3.03636353, 2.69287214],\n",
       "       [1.        , 5.12093014, 3.46363202],\n",
       "       [1.        , 5.79686488, 1.86159445],\n",
       "       [1.        , 3.65529809, 1.66746094],\n",
       "       [1.        , 2.50594319, 1.69755173],\n",
       "       [1.        , 2.84124027, 4.54410559],\n",
       "       [1.        , 1.95026215, 1.51874636],\n",
       "       [1.        , 7.47708735, 2.61081203],\n",
       "       [1.        , 3.61420599, 5.10773362],\n",
       "       [1.        , 1.65752765, 1.59635987]])"
      ]
     },
     "execution_count": 121,
     "metadata": {},
     "output_type": "execute_result"
    }
   ],
   "source": [
    "ones = np.ones((x_34.shape[0], 1))\n",
    "x_34 = np.hstack((ones, x_34))\n",
    "x_34"
   ]
  },
  {
   "cell_type": "code",
   "execution_count": 122,
   "id": "40e3af54-38d9-4e35-a46d-b6bdd15c9396",
   "metadata": {},
   "outputs": [
    {
     "data": {
      "text/plain": [
       "4547.328074863321"
      ]
     },
     "execution_count": 122,
     "metadata": {},
     "output_type": "execute_result"
    }
   ],
   "source": [
    "XTX = x_34.T.dot(x_34)\n",
    "\n",
    "np.linalg.det(XTX)"
   ]
  },
  {
   "cell_type": "markdown",
   "id": "772155fb-d3fc-4997-9331-d48066c3fd78",
   "metadata": {},
   "source": [
    "Так как определитель не близок к нулю, проблем с методом нет. Находим коэффициенты модели:"
   ]
  },
  {
   "cell_type": "code",
   "execution_count": 123,
   "id": "9dd1f80b-46c9-4fa1-b139-64f1af8ebaf4",
   "metadata": {},
   "outputs": [
    {
     "name": "stdout",
     "output_type": "stream",
     "text": [
      "[3.64001086 0.70753914 1.04851745]\n"
     ]
    }
   ],
   "source": [
    "XTX_inv = np.linalg.inv(XTX)\n",
    "\n",
    "b = XTX_inv.dot(x_34.T).dot(y)\n",
    "\n",
    "print(b)"
   ]
  },
  {
   "cell_type": "markdown",
   "id": "cc6f3a63-7a0c-4064-992c-6ac030d9708d",
   "metadata": {},
   "source": [
    "Модель регрессии имеет вид:\n",
    "$$y = 3.640 - 0.708 \\cdot x_1 + 1.049 \\cdot x_2,$$"
   ]
  },
  {
   "cell_type": "code",
   "execution_count": 124,
   "id": "453c0421-babc-4e14-ba99-c3879a7c6934",
   "metadata": {},
   "outputs": [
    {
     "data": {
      "text/plain": [
       "0.6224419876505324"
      ]
     },
     "execution_count": 124,
     "metadata": {},
     "output_type": "execute_result"
    }
   ],
   "source": [
    "z_34 = x_34.dot(b)\n",
    "R2 = 1 - ((y - z_34)**2).sum() / sum_of_squares(y)\n",
    "R2"
   ]
  },
  {
   "cell_type": "markdown",
   "id": "7d48f4ae-a75d-4947-a989-9435dab283dd",
   "metadata": {},
   "source": [
    "Коэффициент детерминации для модели х_34 = 0.622"
   ]
  },
  {
   "cell_type": "markdown",
   "id": "fe45b089-e0d6-4ff1-8841-795b18c006fd",
   "metadata": {},
   "source": [
    "Уровень линейной зависимости целевой переменной от значений  признаков 1 и 3 наиболее высокий. Коэффициент детерминации для модели х_13 = 0.763."
   ]
  },
  {
   "cell_type": "markdown",
   "id": "389fd36d-7484-4d39-8fb8-683755dc2d02",
   "metadata": {},
   "source": [
    "Проверим значимость уравнения регрессии:"
   ]
  },
  {
   "cell_type": "code",
   "execution_count": 125,
   "id": "aafed6f6-98c7-434c-8c0f-f2ff67509bf0",
   "metadata": {},
   "outputs": [
    {
     "data": {
      "text/plain": [
       "(2, 7)"
      ]
     },
     "execution_count": 125,
     "metadata": {},
     "output_type": "execute_result"
    }
   ],
   "source": [
    "n = x_13.shape[0]\n",
    "m = x_13.shape[1] - 1  # поскольку добавляли фиктивный столбец\n",
    "\n",
    "k1 = m\n",
    "k2 = n - m - 1\n",
    "\n",
    "k1, k2"
   ]
  },
  {
   "cell_type": "markdown",
   "id": "3b5c4bb9-d903-4c70-b5c9-98a15a507957",
   "metadata": {},
   "source": [
    "Находим критическую область:"
   ]
  },
  {
   "cell_type": "code",
   "execution_count": 126,
   "id": "989a42ef-d2c9-4aa0-953b-2017ad40b2d0",
   "metadata": {},
   "outputs": [
    {
     "data": {
      "text/plain": [
       "4.73741412777588"
      ]
     },
     "execution_count": 126,
     "metadata": {},
     "output_type": "execute_result"
    }
   ],
   "source": [
    "alpha = 0.05\n",
    "\n",
    "t = stats.f.ppf(1 - alpha, k1, k2)\n",
    "t"
   ]
  },
  {
   "cell_type": "markdown",
   "id": "0b219913-cc2e-485c-841a-57244b0d45f4",
   "metadata": {},
   "source": [
    "Находим статистику:"
   ]
  },
  {
   "cell_type": "code",
   "execution_count": 127,
   "id": "311e2766-7d86-4851-8f4c-f5cd59986bda",
   "metadata": {},
   "outputs": [
    {
     "data": {
      "text/plain": [
       "5.770098595498487"
      ]
     },
     "execution_count": 127,
     "metadata": {},
     "output_type": "execute_result"
    }
   ],
   "source": [
    "F = (R2 / k1) / ((1 - R2) / k2)\n",
    "F"
   ]
  },
  {
   "cell_type": "markdown",
   "id": "ae60d6cf-2948-4485-9169-8cb68a55a091",
   "metadata": {},
   "source": [
    "Статистика попала в критическую область, поэтому уравнение регрессии признаётся значимым."
   ]
  },
  {
   "cell_type": "markdown",
   "id": "c6f40545-2a64-4392-af8a-830fdac82256",
   "metadata": {},
   "source": [
    "__Задача 2__\n",
    "\n",
    "Даны значения величины заработной платы заемщиков банка (salary) и значения их поведенческого кредитного скоринга (scoring):\n",
    "\n",
    "salary = [35, 45, 190, 200, 40, 70, 54, 150, 120, 110]\n",
    "scoring = [401, 574, 874, 919, 459, 739, 653, 902, 746, 832]\n",
    "\n",
    "Возьмём в качестве признака значение salary, а в качестве целевой переменной - scoring.\n",
    "\n",
    "Найдите коэффициенты линейной регрессии с помощью формул для парной регрессии, а затем с помощью метода наименьших квадратов.\n",
    "Постройте scatter plot по данным и отметьте на нём прямую линейной регрессии, полученную в п. 1.\n",
    "Посчитайте коэффициент детерминации.\n",
    "Оцените построенное уравнение регрессии с помощью F-критерия Фишера.\n",
    "(доп) Посчитать среднюю ошибку аппроксимации"
   ]
  },
  {
   "cell_type": "code",
   "execution_count": 128,
   "id": "d80a9a0c-fcad-4438-89e5-ed2ffcdfd42f",
   "metadata": {},
   "outputs": [],
   "source": [
    "salary = np.array([35, 45, 190, 200, 40, 70, 54, 150, 120, 110])\n",
    "scoring = np.array([401, 574, 874, 919, 459, 739, 653, 902, 746, 832])"
   ]
  },
  {
   "cell_type": "markdown",
   "id": "941cf49f-4a2b-4c2f-9575-05668c826dd3",
   "metadata": {},
   "source": [
    "Найдём коэффициенты линейной регрессии с помощью формул для парной регрессии:"
   ]
  },
  {
   "cell_type": "code",
   "execution_count": 129,
   "id": "31014953-9ac9-418d-a93d-f9f1927a0e43",
   "metadata": {},
   "outputs": [
    {
     "data": {
      "text/plain": [
       "(444.1773573243596, 2.620538882402765)"
      ]
     },
     "execution_count": 129,
     "metadata": {},
     "output_type": "execute_result"
    }
   ],
   "source": [
    "b1 = (np.mean(salary * scoring) - np.mean(salary) * np.mean(scoring)) / (np.mean(salary ** 2) - np.mean(salary) ** 2)\n",
    "b0 = np.mean(scoring) - b1 * np.mean(salary)\n",
    "\n",
    "b0, b1"
   ]
  },
  {
   "cell_type": "markdown",
   "id": "153cb8dd-848b-468d-83af-57b00411d7e5",
   "metadata": {},
   "source": [
    "Найдите коэффициенты линейной регрессии с помощью метода наименьших квадратов:"
   ]
  },
  {
   "cell_type": "code",
   "execution_count": 142,
   "id": "04380997-5239-4bc6-a7f4-dceb9d5c4a39",
   "metadata": {},
   "outputs": [
    {
     "data": {
      "text/plain": [
       "(array([[ 35],\n",
       "        [ 45],\n",
       "        [190],\n",
       "        [200],\n",
       "        [ 40],\n",
       "        [ 70],\n",
       "        [ 54],\n",
       "        [150],\n",
       "        [120],\n",
       "        [110]]),\n",
       " array([[401],\n",
       "        [574],\n",
       "        [874],\n",
       "        [919],\n",
       "        [459],\n",
       "        [739],\n",
       "        [653],\n",
       "        [902],\n",
       "        [746],\n",
       "        [832]]))"
      ]
     },
     "execution_count": 142,
     "metadata": {},
     "output_type": "execute_result"
    }
   ],
   "source": [
    "sal = salary.reshape(-1, 1)\n",
    "sc = scoring.reshape(-1, 1)\n",
    "sal, sc"
   ]
  },
  {
   "cell_type": "code",
   "execution_count": 144,
   "id": "d439afab-f209-416c-a75e-44d959d8cead",
   "metadata": {},
   "outputs": [
    {
     "data": {
      "text/plain": [
       "array([[  1.,  35.],\n",
       "       [  1.,  45.],\n",
       "       [  1., 190.],\n",
       "       [  1., 200.],\n",
       "       [  1.,  40.],\n",
       "       [  1.,  70.],\n",
       "       [  1.,  54.],\n",
       "       [  1., 150.],\n",
       "       [  1., 120.],\n",
       "       [  1., 110.]])"
      ]
     },
     "execution_count": 144,
     "metadata": {},
     "output_type": "execute_result"
    }
   ],
   "source": [
    "ones = np.ones((sal.shape[0], 1))\n",
    "sal = np.hstack((ones, sal))\n",
    "sal"
   ]
  },
  {
   "cell_type": "code",
   "execution_count": 145,
   "id": "8245e6b0-4c29-4dcb-846b-063723cbe171",
   "metadata": {},
   "outputs": [
    {
     "data": {
      "text/plain": [
       "349464.00000000023"
      ]
     },
     "execution_count": 145,
     "metadata": {},
     "output_type": "execute_result"
    }
   ],
   "source": [
    "XTX = sal.T.dot(sal)\n",
    "\n",
    "np.linalg.det(XTX)"
   ]
  },
  {
   "cell_type": "code",
   "execution_count": 146,
   "id": "8795c93d-da08-4d03-9eff-6ea2acc007b7",
   "metadata": {},
   "outputs": [
    {
     "name": "stdout",
     "output_type": "stream",
     "text": [
      "[[444.17735732]\n",
      " [  2.62053888]]\n"
     ]
    }
   ],
   "source": [
    "XTX_inv = np.linalg.inv(XTX)\n",
    "\n",
    "b = XTX_inv.dot(sal.T).dot(sc)\n",
    "\n",
    "print(b)"
   ]
  },
  {
   "cell_type": "markdown",
   "id": "c723e387-9c1a-4d5b-86f9-2445c18c6fc2",
   "metadata": {},
   "source": [
    "Коэффициенты, посчитанные при помощи метода наименьших квадратов и формулы для парной регресии совпадают."
   ]
  },
  {
   "cell_type": "code",
   "execution_count": 131,
   "id": "251657f1-219e-42b7-9ea1-dd8012c46466",
   "metadata": {},
   "outputs": [],
   "source": [
    "plt.style.use('seaborn-whitegrid')"
   ]
  },
  {
   "cell_type": "code",
   "execution_count": 132,
   "id": "681a8906-67a6-4cbe-a622-f1f1edb1f32b",
   "metadata": {},
   "outputs": [
    {
     "data": {
      "text/plain": [
       "Text(0, 0.5, 'скоринг')"
      ]
     },
     "execution_count": 132,
     "metadata": {},
     "output_type": "execute_result"
    },
    {
     "data": {
      "image/png": "[encoded data removed]",
      "text/plain": [
       "<Figure size 432x288 with 1 Axes>"
      ]
     },
     "metadata": {},
     "output_type": "display_data"
    }
   ],
   "source": [
    "ox = salary\n",
    "oy = b0 + b1 * ox\n",
    "\n",
    "plt.scatter(salary, scoring)\n",
    "plt.plot(ox, oy, color='red', alpha=0.5)\n",
    "\n",
    "plt.xlabel('заработная плата')\n",
    "plt.ylabel('скоринг')"
   ]
  },
  {
   "cell_type": "markdown",
   "id": "e29d53d4-0231-4554-86da-d2ff0059d973",
   "metadata": {},
   "source": [
    "Расчитаем коэффициент детерминаци:"
   ]
  },
  {
   "cell_type": "code",
   "execution_count": 133,
   "id": "4f980e01-bf67-433e-b19f-d272aa06d865",
   "metadata": {},
   "outputs": [
    {
     "data": {
      "text/plain": [
       "array([535.89621821, 562.10160703, 942.07974498, 968.2851338 ,\n",
       "       548.99891262, 627.61507909, 585.68645697, 837.25818968,\n",
       "       758.64202321, 732.43663439])"
      ]
     },
     "execution_count": 133,
     "metadata": {},
     "output_type": "execute_result"
    }
   ],
   "source": [
    "z = b0 + b1 * salary\n",
    "z"
   ]
  },
  {
   "cell_type": "code",
   "execution_count": 134,
   "id": "290519ba-d5f3-4923-9e59-55f50194040f",
   "metadata": {},
   "outputs": [
    {
     "data": {
      "text/plain": [
       "0.7876386635293686"
      ]
     },
     "execution_count": 134,
     "metadata": {},
     "output_type": "execute_result"
    }
   ],
   "source": [
    "R = 1 - ((scoring - z)**2).sum() / sum_of_squares(scoring)\n",
    "R"
   ]
  },
  {
   "cell_type": "markdown",
   "id": "9497e3bf-4fb5-4a6e-a424-3df091afe0d7",
   "metadata": {},
   "source": [
    "Оценим построенное уравнение регрессии с помощью F-критерия Фишера:"
   ]
  },
  {
   "cell_type": "code",
   "execution_count": 135,
   "id": "fa61bc1b-7e7a-4a25-a2eb-f30dadebdaf3",
   "metadata": {},
   "outputs": [
    {
     "data": {
      "text/plain": [
       "(1, 8)"
      ]
     },
     "execution_count": 135,
     "metadata": {},
     "output_type": "execute_result"
    }
   ],
   "source": [
    "n = salary.shape[0]\n",
    "m = 1\n",
    "\n",
    "k1 = m\n",
    "k2 = n - m - 1\n",
    "\n",
    "k1, k2"
   ]
  },
  {
   "cell_type": "code",
   "execution_count": 136,
   "id": "03a5f3df-7ddf-4f14-8731-fbc6def7e8e4",
   "metadata": {},
   "outputs": [
    {
     "data": {
      "text/plain": [
       "5.317655071578714"
      ]
     },
     "execution_count": 136,
     "metadata": {},
     "output_type": "execute_result"
    }
   ],
   "source": [
    "alpha = 0.05\n",
    "\n",
    "t = stats.f.ppf(1 - alpha, k1, k2)\n",
    "t"
   ]
  },
  {
   "cell_type": "markdown",
   "id": "b53c59d3-30b2-45eb-b743-f0d957b5ee16",
   "metadata": {},
   "source": [
    "Критическая область:\n",
    "$$\\Omega_\\alpha = \\left( 5.32, \\infty \\right)$$"
   ]
  },
  {
   "cell_type": "markdown",
   "id": "2f0a7a6d-14f5-4f4e-88a7-0d033d2a364f",
   "metadata": {},
   "source": [
    "Посчитаем значение F-статистики:"
   ]
  },
  {
   "cell_type": "code",
   "execution_count": 137,
   "id": "0e8ed9e7-986d-4d9a-b3d6-cd1de6bc0a70",
   "metadata": {},
   "outputs": [
    {
     "data": {
      "text/plain": [
       "29.67164085966451"
      ]
     },
     "execution_count": 137,
     "metadata": {},
     "output_type": "execute_result"
    }
   ],
   "source": [
    "F = (R / k1) / ((1 - R) / k2)\n",
    "F"
   ]
  },
  {
   "cell_type": "markdown",
   "id": "51ec39a2-dab4-4950-b8ca-7ceeccdba9b8",
   "metadata": {},
   "source": [
    "Статистика попала в критическую область, уравнение регрессии признаётся значимым."
   ]
  },
  {
   "cell_type": "markdown",
   "id": "c144dcc8-f747-4e73-bf80-fc438fe4a9d3",
   "metadata": {},
   "source": [
    "Посчитаем среднюю ошибку аппроксимации:"
   ]
  },
  {
   "cell_type": "code",
   "execution_count": 138,
   "id": "f4f6138b-dfea-4a41-b0bc-2bc8c5dcf23e",
   "metadata": {},
   "outputs": [],
   "source": [
    "def mean_approximation_error(y_real, y_pred):\n",
    "    return np.abs((y_real - y_pred) / y_real).mean()"
   ]
  },
  {
   "cell_type": "code",
   "execution_count": 139,
   "id": "04699499-1552-469f-a348-556d2ad4bebb",
   "metadata": {},
   "outputs": [
    {
     "data": {
      "text/plain": [
       "0.11469251843561709"
      ]
     },
     "execution_count": 139,
     "metadata": {},
     "output_type": "execute_result"
    }
   ],
   "source": [
    "mean_approximation_error(scoring, z)"
   ]
  },
  {
   "cell_type": "code",
   "execution_count": null,
   "id": "cdf8d302-5ed5-4ffd-acc9-4b6090dc1c9c",
   "metadata": {},
   "outputs": [],
   "source": []
  }
 ],
 "metadata": {
  "kernelspec": {
   "display_name": "Python 3",
   "language": "python",
   "name": "python3"
  },
  "language_info": {
   "codemirror_mode": {
    "name": "ipython",
    "version": 3
   },
   "file_extension": ".py",
   "mimetype": "text/x-python",
   "name": "python",
   "nbconvert_exporter": "python",
   "pygments_lexer": "ipython3",
   "version": "3.9.1"
  }
 },
 "nbformat": 4,
 "nbformat_minor": 5
}
