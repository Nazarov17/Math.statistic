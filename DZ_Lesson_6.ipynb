{
 "cells": [
  {
   "cell_type": "code",
   "execution_count": 1,
   "id": "ee30b12b-eb70-4762-994b-50860ce6bce4",
   "metadata": {},
   "outputs": [],
   "source": [
    "from scipy import stats\n",
    "import warnings\n",
    "import numpy as np\n",
    "import pandas as pd\n",
    "from matplotlib import pyplot as plt\n",
    "import math"
   ]
  },
  {
   "cell_type": "markdown",
   "id": "796c188d-830b-4bd8-b456-dca43f4079d1",
   "metadata": {},
   "source": [
    "__Задача 1__\n",
    "\n",
    "Даны значения величины заработной платы заемщиков банка (salary) и значения их поведенческого кредитного скоринга (scoring):\n",
    "\n",
    "salary = [35, 45, 190, 200, 40, 70, 54, 150, 120, 110]\n",
    "scoring = [401, 574, 874, 919, 459, 739, 653, 902, 746, 832]\n",
    "\n",
    "1. Найдите ковариацию этих двух величин: сначала без использования специальных функций, а затем с помощью функции numpy.cov. Полученные значения должны быть равны.\n",
    "2. Найдите коэффициент корреляции Пирсона: с помощью ковариации и средних квадратических отклонений двух признаков, а затем с помощью специальных функций из библиотек numpy и pandas."
   ]
  },
  {
   "cell_type": "markdown",
   "id": "32b76592-20ad-451e-8a49-80b953ca9db5",
   "metadata": {},
   "source": [
    "Используем формулу для расчёта несмещённой ковариации:"
   ]
  },
  {
   "cell_type": "code",
   "execution_count": 36,
   "id": "1456d692-bc1c-4e27-ba03-5712e19c3d4b",
   "metadata": {},
   "outputs": [],
   "source": [
    "salary = np.array([35, 45, 190, 200, 40, 70, 54, 150, 120, 110])\n",
    "\n",
    "scoring = np.array([401, 574, 874, 919, 459, 739, 653, 902, 746, 832])"
   ]
  },
  {
   "cell_type": "code",
   "execution_count": 37,
   "id": "d652425c-09e0-4fe8-968a-a27b498693d8",
   "metadata": {},
   "outputs": [
    {
     "data": {
      "text/plain": [
       "10175.37777777778"
      ]
     },
     "execution_count": 37,
     "metadata": {},
     "output_type": "execute_result"
    }
   ],
   "source": [
    "X = salary\n",
    "Y = scoring\n",
    "             \n",
    "MX = X.mean()\n",
    "MY = Y.mean()\n",
    "             \n",
    "cov = ((X - MX) * (Y - MY)).sum() / (X.shape[0] - 1)\n",
    "cov"
   ]
  },
  {
   "cell_type": "markdown",
   "id": "76ec79cf-ef63-47d2-b13b-359cf8c6d946",
   "metadata": {},
   "source": [
    "C помощью функции numpy.cov:"
   ]
  },
  {
   "cell_type": "code",
   "execution_count": 38,
   "id": "ebeae3fe-1331-4cd5-b386-0d854f0ce5fb",
   "metadata": {},
   "outputs": [
    {
     "data": {
      "text/plain": [
       "array([[ 3882.93333333, 10175.37777778],\n",
       "       [10175.37777778, 33854.32222222]])"
      ]
     },
     "execution_count": 38,
     "metadata": {},
     "output_type": "execute_result"
    }
   ],
   "source": [
    "np.cov(X, Y)"
   ]
  },
  {
   "cell_type": "markdown",
   "id": "95b84673-60d9-4793-9349-a7789e4857c3",
   "metadata": {},
   "source": [
    "Найдём несмещённое СКО для каждого признака:"
   ]
  },
  {
   "cell_type": "code",
   "execution_count": 39,
   "id": "86715a9c-c563-4282-8370-53458dc316a3",
   "metadata": {},
   "outputs": [
    {
     "data": {
      "text/plain": [
       "(62.31318747531162, 183.99544076477068)"
      ]
     },
     "execution_count": 39,
     "metadata": {},
     "output_type": "execute_result"
    }
   ],
   "source": [
    "sigma_X = X.std(ddof = 1)\n",
    "sigma_Y = Y.std(ddof = 1)\n",
    "sigma_X, sigma_Y"
   ]
  },
  {
   "cell_type": "markdown",
   "id": "11951741-8969-4de5-897a-3455eec21d89",
   "metadata": {},
   "source": [
    "Найдём коэффициент корреляции Пирсона по формуле:"
   ]
  },
  {
   "cell_type": "code",
   "execution_count": 45,
   "id": "bb691712-d6bd-43f4-a440-f8533c8562db",
   "metadata": {},
   "outputs": [
    {
     "data": {
      "text/plain": [
       "0.8874900920739164"
      ]
     },
     "execution_count": 45,
     "metadata": {},
     "output_type": "execute_result"
    }
   ],
   "source": [
    "corr = cov / (sigma_X * sigma_Y)\n",
    "corr"
   ]
  },
  {
   "cell_type": "markdown",
   "id": "292f254c-836a-4410-8e4a-029cc0c2f33b",
   "metadata": {},
   "source": [
    "Найдём коэффициент корреляции при помощи стандартной функции np.corrcoef:"
   ]
  },
  {
   "cell_type": "code",
   "execution_count": 47,
   "id": "09f7b7c7-4b14-4b4e-af7a-603d7b18c99e",
   "metadata": {},
   "outputs": [
    {
     "data": {
      "text/plain": [
       "array([[1.        , 0.88749009],\n",
       "       [0.88749009, 1.        ]])"
      ]
     },
     "execution_count": 47,
     "metadata": {},
     "output_type": "execute_result"
    }
   ],
   "source": [
    "np.corrcoef(X,Y)"
   ]
  },
  {
   "cell_type": "markdown",
   "id": "de304462-68fd-4e62-8d73-bfca15df03dd",
   "metadata": {},
   "source": [
    "__Задача 2__\n",
    "\n",
    "Измерены значения IQ выборки студентов, обучающихся в местных технических вузах:\n",
    "\n",
    "131, 125, 115, 122, 131, 115, 107, 99, 125, 111\n",
    "\n",
    "Известно, что в генеральной совокупности IQ распределен нормально. Найдите доверительный интервал для математического ожидания с надежностью 0.95.\n",
    "\n",
    "Задача 3"
   ]
  },
  {
   "cell_type": "markdown",
   "id": "63706723-1183-40ad-ac8a-e8b6339417ef",
   "metadata": {},
   "source": [
    "Так как СКО не известно, применяем Т-статистику:"
   ]
  },
  {
   "cell_type": "code",
   "execution_count": 48,
   "id": "75b45cf7-06c6-4403-b7dc-7978634ebb0c",
   "metadata": {},
   "outputs": [],
   "source": [
    "samples = np.array([131, 125, 115, 122, 131, 115, 107, 99, 125, 111])"
   ]
  },
  {
   "cell_type": "code",
   "execution_count": 51,
   "id": "83060616-f3dd-4f22-a1ab-9886c80fe162",
   "metadata": {},
   "outputs": [],
   "source": [
    "n = samples.shape[0]\n",
    "x_mean = samples.mean()\n",
    "p = 0.95\n",
    "alpha = 1 - p\n",
    "sigma_x = samples.std(ddof=1)"
   ]
  },
  {
   "cell_type": "markdown",
   "id": "c3eed86f-c793-408b-a606-2809e6de0fda",
   "metadata": {},
   "source": [
    "Находим критическую область:"
   ]
  },
  {
   "cell_type": "code",
   "execution_count": 53,
   "id": "8db0317e-c895-4d1b-b286-7151b5c360c3",
   "metadata": {},
   "outputs": [
    {
     "data": {
      "text/plain": [
       "(-2.2621571627409915, 2.2621571627409915)"
      ]
     },
     "execution_count": 53,
     "metadata": {},
     "output_type": "execute_result"
    }
   ],
   "source": [
    "t1 = stats.t.ppf(alpha/2, df=n-1)\n",
    "t2 = stats.t.ppf(1-alpha/2, df=n-1)\n",
    "t1, t2"
   ]
  },
  {
   "cell_type": "markdown",
   "id": "5de69af6-5a60-4863-afeb-7e1480577d62",
   "metadata": {},
   "source": [
    "Критическая область: Ω𝛼=(−∞,−2.26)∪(2.26,∞)"
   ]
  },
  {
   "cell_type": "markdown",
   "id": "df1350c5-f91c-44f3-b0fb-eed14445377d",
   "metadata": {},
   "source": [
    "Найдём доверительный интервал:"
   ]
  },
  {
   "cell_type": "code",
   "execution_count": 58,
   "id": "c267b24b-394b-4d7d-9448-464d475a307e",
   "metadata": {},
   "outputs": [
    {
     "data": {
      "text/plain": [
       "(110.6, 125.6)"
      ]
     },
     "execution_count": 58,
     "metadata": {},
     "output_type": "execute_result"
    }
   ],
   "source": [
    "round((x_mean + t1 * sigma_x / np.sqrt(n)), 1), round((x_mean + t2 * sigma_x / np.sqrt(n)), 1)"
   ]
  },
  {
   "cell_type": "markdown",
   "id": "e3f3d59c-be0a-4e18-bc80-e7cb783cb137",
   "metadata": {},
   "source": [
    "__Задача 3__\n",
    "\n",
    "Известно, что рост футболистов в сборной распределен нормально с известной дисперсией 25. На выборке объёма 27 выборочное среднее составило 174.2. Найдите доверительный интервал для математического ожидания с надежностью 0.95."
   ]
  },
  {
   "cell_type": "code",
   "execution_count": 59,
   "id": "3b019ded-15c4-4b77-8cae-b05c97e73eb4",
   "metadata": {},
   "outputs": [],
   "source": [
    "n = 27\n",
    "x_mean = 174.2\n",
    "p = 0.95\n",
    "alpha = 1 - p\n",
    "sigma_x = 5"
   ]
  },
  {
   "cell_type": "markdown",
   "id": "face3bf7-ff8d-46d0-8cc1-618728a8c005",
   "metadata": {},
   "source": [
    "Так как СКО (корень квадратный из дисперсии) известно, применяем Z-статистику для поиска критической области:"
   ]
  },
  {
   "cell_type": "code",
   "execution_count": 61,
   "id": "5d6cffb9-fdf7-4f9d-ac5f-f1c823eb9ed7",
   "metadata": {},
   "outputs": [
    {
     "data": {
      "text/plain": [
       "(-1.959963984540054, 1.959963984540054)"
      ]
     },
     "execution_count": 61,
     "metadata": {},
     "output_type": "execute_result"
    }
   ],
   "source": [
    "t1 = stats.norm.ppf(alpha / 2)\n",
    "t2 = stats.norm.ppf(1 - alpha / 2)\n",
    "\n",
    "t1, t2"
   ]
  },
  {
   "cell_type": "markdown",
   "id": "cbdca132-4e9c-4bd1-9a19-4bf7ce4fda4f",
   "metadata": {},
   "source": [
    "Критическая область: Ω𝛼=(−∞,−1.96)∪(1.96,∞)"
   ]
  },
  {
   "cell_type": "markdown",
   "id": "8a2ac2a6-b9a4-499a-9815-422e90939106",
   "metadata": {},
   "source": [
    "Найдём доверительный интервал:"
   ]
  },
  {
   "cell_type": "code",
   "execution_count": 63,
   "id": "54222938-1225-440c-93db-e2259d0d70a1",
   "metadata": {},
   "outputs": [
    {
     "data": {
      "text/plain": [
       "(172.3, 176.1)"
      ]
     },
     "execution_count": 63,
     "metadata": {},
     "output_type": "execute_result"
    }
   ],
   "source": [
    "round((x_mean + t1 * sigma_x / np.sqrt(n)), 1), round((x_mean + t2 * sigma_x / np.sqrt(n)), 1)"
   ]
  },
  {
   "cell_type": "code",
   "execution_count": null,
   "id": "0b43a6bc-7668-4241-86e9-4f1ab870db5c",
   "metadata": {},
   "outputs": [],
   "source": []
  }
 ],
 "metadata": {
  "kernelspec": {
   "display_name": "Python 3",
   "language": "python",
   "name": "python3"
  },
  "language_info": {
   "codemirror_mode": {
    "name": "ipython",
    "version": 3
   },
   "file_extension": ".py",
   "mimetype": "text/x-python",
   "name": "python",
   "nbconvert_exporter": "python",
   "pygments_lexer": "ipython3",
   "version": "3.9.1"
  }
 },
 "nbformat": 4,
 "nbformat_minor": 5
}
