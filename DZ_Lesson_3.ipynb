{
 "cells": [
  {
   "cell_type": "markdown",
   "id": "7be9632e-bdbc-42db-bb59-b59bd14d7bbb",
   "metadata": {},
   "source": [
    "__Задача 1__\n",
    "\n",
    "Даны значения зарплат из выборки выпускников:\n",
    "\n",
    "100, 80, 75, 77, 89, 33, 45, 25, 65, 17, 30, 24, 57, 55, 70, 75, 65, 84, 90, 150.\n",
    "\n",
    "Без использования статистических функций вроде mean, std, var, посчитать среднее арифметическое, среднее квадратичное отклонение, смещенную и несмещенную оценки дисперсий для данной выборки.\n",
    "\n",
    "Можно затем посчитать те же значения с использованием статистических функций, чтобы проверить себя."
   ]
  },
  {
   "cell_type": "code",
   "execution_count": 41,
   "id": "f023ed15-5e37-41bb-99f9-66bde62038b5",
   "metadata": {},
   "outputs": [],
   "source": [
    "import warnings\n",
    "\n",
    "import statistics as sts\n",
    "import numpy as np\n",
    "import pandas as pd\n",
    "from matplotlib import pyplot as plt\n",
    "\n",
    "warnings.filterwarnings('ignore')"
   ]
  },
  {
   "cell_type": "code",
   "execution_count": 20,
   "id": "e532d4bc-852c-4fae-82cb-77c4ea7c6271",
   "metadata": {},
   "outputs": [],
   "source": [
    "salary_list = [100, 80, 75, 77, 89, 33, 45, 25, 65, 17, 30, 24, 57, 55, 70, 75, 65, 84, 90, 150]"
   ]
  },
  {
   "cell_type": "markdown",
   "id": "1b1d4ae8-04f3-4717-bd4f-32907d1d50e4",
   "metadata": {},
   "source": [
    "Среднее арифметическое:"
   ]
  },
  {
   "cell_type": "code",
   "execution_count": 21,
   "id": "baf78f58-4f66-42f6-a1c3-6403dc6a86ca",
   "metadata": {},
   "outputs": [],
   "source": [
    "def salary_mean(a=list):\n",
    "    sal_sum = 0\n",
    "    for i in a:\n",
    "        sal_sum = sal_sum + i\n",
    "        sal_mean = sal_sum / len(a)\n",
    "    return(sal_mean)"
   ]
  },
  {
   "cell_type": "code",
   "execution_count": 22,
   "id": "7e4dae54-89ab-4b8f-af9b-7dd53e2244ef",
   "metadata": {},
   "outputs": [
    {
     "data": {
      "text/plain": [
       "65.3"
      ]
     },
     "execution_count": 22,
     "metadata": {},
     "output_type": "execute_result"
    }
   ],
   "source": [
    "salary_mean(salary_list)"
   ]
  },
  {
   "cell_type": "markdown",
   "id": "18bbcf16-da78-402c-bd24-9d7b5b80890c",
   "metadata": {},
   "source": [
    "Проверка с использованием вложенного метода .mean:"
   ]
  },
  {
   "cell_type": "code",
   "execution_count": 29,
   "id": "e93015d3-ad6e-4ec7-a752-f166f5bc0940",
   "metadata": {},
   "outputs": [
    {
     "data": {
      "text/plain": [
       "65.3"
      ]
     },
     "execution_count": 29,
     "metadata": {},
     "output_type": "execute_result"
    }
   ],
   "source": [
    "np.mean(salary_list)"
   ]
  },
  {
   "cell_type": "markdown",
   "id": "02ca90a3-7142-4125-aa2d-fa233dcd15c2",
   "metadata": {},
   "source": [
    "Среднее квадратичное отклонение:"
   ]
  },
  {
   "cell_type": "code",
   "execution_count": 32,
   "id": "3a6d90fa-7087-4f4e-8311-8594290ae0b7",
   "metadata": {},
   "outputs": [
    {
     "data": {
      "text/plain": [
       "30.823854398825596"
      ]
     },
     "execution_count": 32,
     "metadata": {},
     "output_type": "execute_result"
    }
   ],
   "source": [
    "def salary_standartdeviation(b=list):\n",
    "    std_sum = 0\n",
    "    for i in b:\n",
    "        std_sum = std_sum + ((i - salary_mean(b))**2)\n",
    "        salary_std =  np.sqrt(std_sum / len(b))\n",
    "    return(salary_std)\n",
    "\n",
    "salary_standartdeviation(salary_list)"
   ]
  },
  {
   "cell_type": "markdown",
   "id": "dc2b3d76-882c-47fa-a9eb-0bd3412fb307",
   "metadata": {},
   "source": [
    "Проверка с использованием вложенного метода .std:"
   ]
  },
  {
   "cell_type": "code",
   "execution_count": 30,
   "id": "03ce71cf-5cff-4ea0-890f-e1c5578533ff",
   "metadata": {},
   "outputs": [
    {
     "data": {
      "text/plain": [
       "30.823854398825596"
      ]
     },
     "execution_count": 30,
     "metadata": {},
     "output_type": "execute_result"
    }
   ],
   "source": [
    "np.std(salary_list)"
   ]
  },
  {
   "cell_type": "markdown",
   "id": "40b3bb79-50d1-4256-882c-44ca23d91508",
   "metadata": {},
   "source": [
    "Смещенная дисперсия:"
   ]
  },
  {
   "cell_type": "code",
   "execution_count": 35,
   "id": "f89cdd23-bf91-4029-b086-8dfdd67ccf4d",
   "metadata": {},
   "outputs": [],
   "source": [
    "def salary_biased_sample_variance(c=list):\n",
    "    bsv_sum = 0\n",
    "    for i in c:\n",
    "        bsv_sum = bsv_sum + ((i - salary_mean(c)) ** 2)\n",
    "        salary_bsv = bsv_sum / len(c)\n",
    "    return (salary_bsv)"
   ]
  },
  {
   "cell_type": "code",
   "execution_count": 36,
   "id": "c28aa824-0c26-4fa7-bece-452c82d85b78",
   "metadata": {},
   "outputs": [
    {
     "data": {
      "text/plain": [
       "950.11"
      ]
     },
     "execution_count": 36,
     "metadata": {},
     "output_type": "execute_result"
    }
   ],
   "source": [
    "salary_biased_sample_variance(salary_list)"
   ]
  },
  {
   "cell_type": "markdown",
   "id": "f919b325-939e-4629-914d-b55d2f08b080",
   "metadata": {},
   "source": [
    "Проверка с использованием вложенного метода .var(ddof=0):"
   ]
  },
  {
   "cell_type": "code",
   "execution_count": 38,
   "id": "afcbd1d2-6371-423b-953e-ec5d8fe1f6b1",
   "metadata": {},
   "outputs": [
    {
     "data": {
      "text/plain": [
       "950.11"
      ]
     },
     "execution_count": 38,
     "metadata": {},
     "output_type": "execute_result"
    }
   ],
   "source": [
    "np.var(salary_list)"
   ]
  },
  {
   "cell_type": "markdown",
   "id": "077381f8-8b27-4231-aeb2-e7118719c12d",
   "metadata": {},
   "source": [
    "Несмещенная дисперсия:"
   ]
  },
  {
   "cell_type": "code",
   "execution_count": 39,
   "id": "4ef487cc-397f-479a-8459-a742e31d672b",
   "metadata": {},
   "outputs": [],
   "source": [
    "def salary_unbiased_sample_variance(d=list):\n",
    "    unbsv_sum = 0\n",
    "    for i in d:\n",
    "        unbsv_sum = unbsv_sum + ((i - salary_mean(d)) ** 2)\n",
    "        salary_unbsv = unbsv_sum / (len(d) - 1)\n",
    "    return (salary_unbsv)"
   ]
  },
  {
   "cell_type": "code",
   "execution_count": 40,
   "id": "9f1371fb-821a-4b33-a68c-c4508fc654b4",
   "metadata": {},
   "outputs": [
    {
     "data": {
      "text/plain": [
       "1000.1157894736842"
      ]
     },
     "execution_count": 40,
     "metadata": {},
     "output_type": "execute_result"
    }
   ],
   "source": [
    "salary_unbiased_sample_variance(salary_list)"
   ]
  },
  {
   "cell_type": "markdown",
   "id": "6c85660c-9cc6-462e-b2d7-ba2a9248d691",
   "metadata": {},
   "source": [
    "__Задача 2__\n",
    "\n",
    "Для выборки из задачи 1 найти первый и третий квартили, интерквартильное расстояние. Найти выборсы в выборке, используя для этого \"усы\" из boxplot. В этой задаче можно использовать статистические функции."
   ]
  },
  {
   "cell_type": "code",
   "execution_count": 56,
   "id": "b89a04bd-16d8-4646-b34f-ff6822e38ac4",
   "metadata": {},
   "outputs": [
    {
     "data": {
      "text/plain": [
       "42.0"
      ]
     },
     "execution_count": 56,
     "metadata": {},
     "output_type": "execute_result"
    }
   ],
   "source": [
    "q1 = np.quantile(salary_list, 0.25)\n",
    "q1"
   ]
  },
  {
   "cell_type": "code",
   "execution_count": 57,
   "id": "5e07ec18-c158-4e3f-aef3-580cd15c10e0",
   "metadata": {},
   "outputs": [
    {
     "data": {
      "text/plain": [
       "81.0"
      ]
     },
     "execution_count": 57,
     "metadata": {},
     "output_type": "execute_result"
    }
   ],
   "source": [
    "q3 = np.quantile(salary_list, 0.75)\n",
    "q3"
   ]
  },
  {
   "cell_type": "code",
   "execution_count": 58,
   "id": "73569061-8f36-461c-9238-95549474af7b",
   "metadata": {},
   "outputs": [
    {
     "data": {
      "text/plain": [
       "39.0"
      ]
     },
     "execution_count": 58,
     "metadata": {},
     "output_type": "execute_result"
    }
   ],
   "source": [
    "iqr = q3 - q1\n",
    "iqr"
   ]
  },
  {
   "cell_type": "code",
   "execution_count": 59,
   "id": "78585e6b-dd09-4430-ae44-b3acc5fa7a01",
   "metadata": {},
   "outputs": [
    {
     "data": {
      "text/plain": [
       "{'whiskers': [<matplotlib.lines.Line2D at 0x19b897d6190>,\n",
       "  <matplotlib.lines.Line2D at 0x19b897d6520>],\n",
       " 'caps': [<matplotlib.lines.Line2D at 0x19b897d68b0>,\n",
       "  <matplotlib.lines.Line2D at 0x19b897d6c40>],\n",
       " 'boxes': [<matplotlib.lines.Line2D at 0x19b897c7e80>],\n",
       " 'medians': [<matplotlib.lines.Line2D at 0x19b897d6fd0>],\n",
       " 'fliers': [<matplotlib.lines.Line2D at 0x19b897e03a0>],\n",
       " 'means': []}"
      ]
     },
     "execution_count": 59,
     "metadata": {},
     "output_type": "execute_result"
    },
    {
     "data": {
      "image/png": "[encoded data removed]",
      "text/plain": [
       "<Figure size 432x288 with 1 Axes>"
      ]
     },
     "metadata": {
      "needs_background": "light"
     },
     "output_type": "display_data"
    }
   ],
   "source": [
    "plt.boxplot(salary_list)"
   ]
  },
  {
   "cell_type": "code",
   "execution_count": 60,
   "id": "0cbee8ee-0a67-403b-a17f-4ea9bf3b0a3c",
   "metadata": {},
   "outputs": [],
   "source": [
    "boxplot_range = (q1 - 1.5 * iqr, q3 + 1.5 * iqr)"
   ]
  },
  {
   "cell_type": "code",
   "execution_count": 73,
   "id": "7c1dfa66-02b1-48f3-8717-5ebc57f75dd2",
   "metadata": {},
   "outputs": [
    {
     "data": {
      "text/plain": [
       "(-16.5, 139.5)"
      ]
     },
     "execution_count": 73,
     "metadata": {},
     "output_type": "execute_result"
    }
   ],
   "source": [
    "boxplot_range"
   ]
  },
  {
   "cell_type": "markdown",
   "id": "78f4637d-7fd4-4521-b105-2a168e0f10d8",
   "metadata": {},
   "source": [
    "Найдём значения, которые оказались за пределами \"усов\", их количество и долю от общей выборки:"
   ]
  },
  {
   "cell_type": "code",
   "execution_count": 71,
   "id": "c069b9e5-0468-4d8a-970b-0c42a9cf74b8",
   "metadata": {},
   "outputs": [],
   "source": [
    "def outliers(e=list):\n",
    "    outliers_list = []\n",
    "    outliers_count = 0\n",
    "    for i in e:\n",
    "        if i < boxplot_range[0] or i > boxplot_range[1]:\n",
    "            outliers_list.append(i)\n",
    "            outliers_count += 1\n",
    "            outliers_share = outliers_count / len(e)\n",
    "    return(outliers_list, outliers_count, outliers_share)"
   ]
  },
  {
   "cell_type": "code",
   "execution_count": 72,
   "id": "36404102-f240-48ae-ae38-6923b536d774",
   "metadata": {},
   "outputs": [
    {
     "data": {
      "text/plain": [
       "([150], 1, 0.05)"
      ]
     },
     "execution_count": 72,
     "metadata": {},
     "output_type": "execute_result"
    }
   ],
   "source": [
    "outliers(salary_list)"
   ]
  },
  {
   "cell_type": "markdown",
   "id": "92479c41-5280-4832-bc52-b4db01b71a51",
   "metadata": {},
   "source": [
    "__Задача 3__\n",
    "\n",
    "В университет на факультеты A и B поступило равное количество студентов, а на факультет C студентов поступило столько же, сколько на A и B вместе. Вероятность того, что студент факультета A сдаст первую сессию, равна 0.8. Для студента факультета B эта вероятность равна 0.7, а для студента факультета C - 0.9. Студент сдал первую сессию. Какова вероятность, что он учится: a) на факультете A? б) на факультете B? в) на факультете C?"
   ]
  },
  {
   "cell_type": "markdown",
   "id": "d70150d5-aaf9-43cd-949f-29406fd1e255",
   "metadata": {},
   "source": [
    "Количество студентов на каждом факультете от общего количества:\n",
    "А - 0.25; \n",
    "В - 0.25; \n",
    "С - 0.50; "
   ]
  },
  {
   "cell_type": "markdown",
   "id": "1618c6d6-695f-4074-8bc9-a880c7c990bf",
   "metadata": {},
   "source": [
    "Полная вероятность сдать экзамен для всех студентов:"
   ]
  },
  {
   "cell_type": "code",
   "execution_count": 75,
   "id": "750de57d-929e-46c3-920f-a8de7393e2d0",
   "metadata": {},
   "outputs": [
    {
     "data": {
      "text/plain": [
       "0.825"
      ]
     },
     "execution_count": 75,
     "metadata": {},
     "output_type": "execute_result"
    }
   ],
   "source": [
    "P = 0.25 * 0.8 + 0.25 * 0.7 + 0.5 * 0.9\n",
    "P"
   ]
  },
  {
   "cell_type": "markdown",
   "id": "735970b9-a45d-40b2-93e7-61c36af07479",
   "metadata": {},
   "source": [
    "Вероятность, что первую сессию сдал студент одного из 3-х факультетов рассчитываем по формуле Байеса: вероятность того, что студент из данного факультета * вероятность сдать сессию для студента этого факультета / полная вероятность того, что студент любого факультета сдаст сессию"
   ]
  },
  {
   "cell_type": "code",
   "execution_count": 79,
   "id": "1cff399b-6270-4a9e-9e43-91d80b264c98",
   "metadata": {},
   "outputs": [
    {
     "data": {
      "text/plain": [
       "0.24242424242424246"
      ]
     },
     "execution_count": 79,
     "metadata": {},
     "output_type": "execute_result"
    }
   ],
   "source": [
    "P_A = 0.25 * 0.8 / P\n",
    "P_A"
   ]
  },
  {
   "cell_type": "code",
   "execution_count": 80,
   "id": "7bcf7ae2-62af-415c-9b09-8b81ce11d0a3",
   "metadata": {},
   "outputs": [
    {
     "data": {
      "text/plain": [
       "0.21212121212121213"
      ]
     },
     "execution_count": 80,
     "metadata": {},
     "output_type": "execute_result"
    }
   ],
   "source": [
    "P_B = 0.25 * 0.7 / P\n",
    "P_B"
   ]
  },
  {
   "cell_type": "code",
   "execution_count": 81,
   "id": "4cd31e2a-8bca-48be-9c12-b0d2096ee00e",
   "metadata": {},
   "outputs": [
    {
     "data": {
      "text/plain": [
       "0.5454545454545455"
      ]
     },
     "execution_count": 81,
     "metadata": {},
     "output_type": "execute_result"
    }
   ],
   "source": [
    "P_C = 0.5 * 0.9 / P\n",
    "P_C"
   ]
  },
  {
   "cell_type": "code",
   "execution_count": null,
   "id": "fbdef06c-e099-43fb-9a07-3ff31777c831",
   "metadata": {},
   "outputs": [],
   "source": []
  }
 ],
 "metadata": {
  "kernelspec": {
   "display_name": "Python 3",
   "language": "python",
   "name": "python3"
  },
  "language_info": {
   "codemirror_mode": {
    "name": "ipython",
    "version": 3
   },
   "file_extension": ".py",
   "mimetype": "text/x-python",
   "name": "python",
   "nbconvert_exporter": "python",
   "pygments_lexer": "ipython3",
   "version": "3.9.1"
  }
 },
 "nbformat": 4,
 "nbformat_minor": 5
}
