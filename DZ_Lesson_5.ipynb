{
 "cells": [
  {
   "cell_type": "code",
   "execution_count": 107,
   "id": "fe8c7466-2e6d-4b31-9f5a-b1397ed7e6c5",
   "metadata": {},
   "outputs": [],
   "source": [
    "from scipy import stats\n",
    "import warnings\n",
    "import numpy as np\n",
    "import pandas as pd\n",
    "from matplotlib import pyplot as plt\n",
    "import math"
   ]
  },
  {
   "cell_type": "markdown",
   "id": "d0674f96-c575-4649-8f42-74a39a1d178f",
   "metadata": {},
   "source": [
    "__Задача 1__\n",
    "\n",
    "Известно, что генеральная совокупность распределена нормально с известным средним квадратическим отклонением 16. Найти доверительный интервал для оценки математического ожидания mu с надёжностью 0.95 (доверительная информация), если выборочное среднее равно 80, а объём равен 256."
   ]
  },
  {
   "cell_type": "markdown",
   "id": "56cfd81c-c34a-4630-8a00-c8886424fefc",
   "metadata": {},
   "source": [
    "Из условия нормального распределения при известном СКО используем формулу для 𝑍-статистики: 𝑍 = (𝑋 (выборочное среднее) - 𝜇 (мат.ожидание не известно)) / (𝜎 (СКО) / sqrt(n (объём выборки)))"
   ]
  },
  {
   "cell_type": "code",
   "execution_count": 20,
   "id": "3af9d794-8905-4c24-b04e-b83bd0b72274",
   "metadata": {},
   "outputs": [],
   "source": [
    "def statistic_1(𝜇):\n",
    "    return (80 - 𝜇) / (0.25 / np.sqrt(256))"
   ]
  },
  {
   "cell_type": "markdown",
   "id": "4361c1e4-d298-443a-b30e-f0a962aa2638",
   "metadata": {},
   "source": [
    "Уровень значимости alpha = 0.05"
   ]
  },
  {
   "cell_type": "code",
   "execution_count": 21,
   "id": "2eda9de4-ac46-46de-9d3c-a4b40bef08a3",
   "metadata": {},
   "outputs": [],
   "source": [
    "alpha = 0.05"
   ]
  },
  {
   "cell_type": "code",
   "execution_count": 22,
   "id": "75569d6a-24e6-4b2b-bb3e-6dba7dcce223",
   "metadata": {},
   "outputs": [
    {
     "data": {
      "text/plain": [
       "(-1.9599639845400545, 1.959963984540054)"
      ]
     },
     "execution_count": 22,
     "metadata": {},
     "output_type": "execute_result"
    }
   ],
   "source": [
    "t1 = stats.norm.ppf(alpha / 2)\n",
    "t2 = stats.norm.ppf(1 - alpha / 2)\n",
    "\n",
    "t1, t2"
   ]
  },
  {
   "cell_type": "markdown",
   "id": "158df910-cf63-4ad6-9845-ff87b0975b57",
   "metadata": {},
   "source": [
    "Критическая область: Ω𝛼=(−∞,−1.96)∪(1.96,∞)"
   ]
  },
  {
   "cell_type": "code",
   "execution_count": 82,
   "id": "f742da60-0ec9-49f7-82c2-680edfc9c40d",
   "metadata": {},
   "outputs": [],
   "source": [
    "z = 0"
   ]
  },
  {
   "cell_type": "code",
   "execution_count": 86,
   "id": "584bfff0-1081-47a3-a479-d7f2a3ee3b48",
   "metadata": {},
   "outputs": [
    {
     "name": "stdout",
     "output_type": "stream",
     "text": [
      "80.0306400142033\n"
     ]
    }
   ],
   "source": [
    "mu_left = 0\n",
    "while z > -1.96:\n",
    "    z = statistic_1(mu_left)\n",
    "    mu_left += 0.00001\n",
    "print(mu_left)"
   ]
  },
  {
   "cell_type": "code",
   "execution_count": 87,
   "id": "85cc6621-7f32-498c-90d9-1fb8fd94fc75",
   "metadata": {},
   "outputs": [
    {
     "name": "stdout",
     "output_type": "stream",
     "text": [
      "79.96936001418385\n",
      "Доверительный интервал: 80.0306400142033 - 79.96936001418385\n"
     ]
    }
   ],
   "source": [
    "mu_right = mu_left\n",
    "while z < 1.96:\n",
    "    z = statistic_1(mu_right)\n",
    "    mu_right -= 0.00001\n",
    "print(mu_right)\n",
    "print(f'Доверительный интервал: {mu_left} - {mu_right}')"
   ]
  },
  {
   "cell_type": "code",
   "execution_count": 92,
   "id": "fd254fb8-5980-4bc7-84e5-37e76ac03bed",
   "metadata": {},
   "outputs": [
    {
     "data": {
      "text/plain": [
       "-1.958400000000438"
      ]
     },
     "execution_count": 92,
     "metadata": {},
     "output_type": "execute_result"
    }
   ],
   "source": [
    "z = statistic_1(round(mu_left,4))\n",
    "z"
   ]
  },
  {
   "cell_type": "code",
   "execution_count": 93,
   "id": "56d700ee-9178-4202-92bc-2b2fb0e8baa2",
   "metadata": {},
   "outputs": [
    {
     "data": {
      "text/plain": [
       "1.958400000000438"
      ]
     },
     "execution_count": 93,
     "metadata": {},
     "output_type": "execute_result"
    }
   ],
   "source": [
    "z = statistic_1(round(mu_right,4))\n",
    "z"
   ]
  },
  {
   "cell_type": "markdown",
   "id": "77b0809c-8d63-4823-9bed-805ed1edae24",
   "metadata": {},
   "source": [
    "__Задача 2__\n",
    "\n",
    "Продавец утверждает, что средний вес пачки печенья составляет 200 г. Из партии извлечена выборка из 10 пачек. Вес каждой пачки составляет:\n",
    "\n",
    "202, 203, 199, 197, 195, 201, 200, 204, 194, 190\n",
    "\n",
    "Известно, что их веса распределены нормально.\n",
    "1. Верно ли утверждение продавца, если учитывать, что уровень значимости равен 1%?\n",
    "2. Найдите P-значение для данного теста."
   ]
  },
  {
   "cell_type": "markdown",
   "id": "fd66ea2e-ca97-40a6-9656-5e9ea88cad9b",
   "metadata": {},
   "source": [
    "Из условия нормального распределения при НЕизвестном СКО используем формулу для T-статистики: T = (𝑋 (выборочное среднее) - 𝜇 (мат.ожидание) / (𝜎𝑋 / sqrt(n (объём выборки)))"
   ]
  },
  {
   "cell_type": "code",
   "execution_count": 27,
   "id": "ad57b7e5-6fa2-4196-8c0b-b9e201ae82e0",
   "metadata": {},
   "outputs": [],
   "source": [
    "n = sample.shape[0]"
   ]
  },
  {
   "cell_type": "code",
   "execution_count": 28,
   "id": "08b72367-aa25-47cc-a9e6-8a9ab255f02a",
   "metadata": {},
   "outputs": [],
   "source": [
    "sample = np.array([202, 203, 199, 197, 195, 201, 200, 204, 194, 190])\n",
    "def statistic_2(sample):\n",
    "     return (sample.mean() - 200) / (sample.std(ddof=1) / np.sqrt(n))"
   ]
  },
  {
   "cell_type": "code",
   "execution_count": 29,
   "id": "188791b4-0a5b-4dbd-a354-7f2f3fb05e3e",
   "metadata": {},
   "outputs": [
    {
     "data": {
      "text/plain": [
       "(-3.2498355440153697, 3.2498355440153697)"
      ]
     },
     "execution_count": 29,
     "metadata": {},
     "output_type": "execute_result"
    }
   ],
   "source": [
    "alpha = 0.01\n",
    "t1 = stats.t.ppf(alpha / 2, df=n - 1)\n",
    "t2 = stats.t.ppf(1 - alpha / 2, df=n - 1)\n",
    "\n",
    "t1, t2"
   ]
  },
  {
   "cell_type": "code",
   "execution_count": 30,
   "id": "fbb3d279-ac87-46cb-9bdc-9eed516a2a41",
   "metadata": {},
   "outputs": [
    {
     "data": {
      "text/plain": [
       "-1.0651074037450896"
      ]
     },
     "execution_count": 30,
     "metadata": {},
     "output_type": "execute_result"
    }
   ],
   "source": [
    "t = statistic_2(sample)\n",
    "t"
   ]
  },
  {
   "cell_type": "markdown",
   "id": "6bffe996-0a46-440f-bc6f-ee8327f21dbb",
   "metadata": {},
   "source": [
    "Значение статистики не попало в критическую область, значит, гипотеза остаётся в силе"
   ]
  },
  {
   "cell_type": "markdown",
   "id": "f426e314-9b2e-4a4d-8d36-353f81c71ec9",
   "metadata": {},
   "source": [
    "Найдём Р-значение (pvalue):"
   ]
  },
  {
   "cell_type": "code",
   "execution_count": 34,
   "id": "3781ab88-3b99-492d-a193-4fed4b3b3ce1",
   "metadata": {},
   "outputs": [
    {
     "data": {
      "text/plain": [
       "0.3145666035247285"
      ]
     },
     "execution_count": 34,
     "metadata": {},
     "output_type": "execute_result"
    }
   ],
   "source": [
    "p_left = stats.t.cdf(S, df=n - 1)\n",
    "p_right = 1 - stats.t.cdf(S, df=n - 1)\n",
    "\n",
    "pvalue = 2 * min(p_left, p_right)\n",
    "\n",
    "pvalue"
   ]
  },
  {
   "cell_type": "markdown",
   "id": "a73ea8fc-8cc5-4784-8b81-28d2f1e85d54",
   "metadata": {},
   "source": [
    "Уровень значимости $\\alpha = 0.01$ -  меньше, чем получившееся P-значение, поэтому гипотеза принимается"
   ]
  },
  {
   "cell_type": "markdown",
   "id": "afb2385a-0ddf-4961-9405-d5c0e9eb7488",
   "metadata": {},
   "source": [
    "__Задача 3__\n",
    "\n",
    "Утверждается, что шарики для подшипников, изготовленные автоматическим станком, имеют средний диаметр 17 мм. Используя уровень значимости 0.025 и правостороннюю критическую область, проверить данную гипотезу при условии, что в выборке из 100 шариков средний диаметр оказался равным 17.5 мм, а дисперсия известна и равна 4 мм."
   ]
  },
  {
   "cell_type": "markdown",
   "id": "0e1ed841-d8de-4475-b86e-628d038d3e59",
   "metadata": {},
   "source": [
    "Из условия нормального распределения при известном СКО используем формулу для 𝑍-статистики: 𝑍 = (𝑋 (выборочное среднее = 17.5 мм) - 𝜇 (мат.ожидание = 17.0 мм)) / (𝜎 (СКО = sqrt(дисперсия = 4 мм)) / sqrt(n (объём выборки = 100)))"
   ]
  },
  {
   "cell_type": "code",
   "execution_count": 100,
   "id": "deaa271f-0dc0-4000-be90-b6ae8ebbe842",
   "metadata": {},
   "outputs": [],
   "source": [
    "mean_x = 17.5\n",
    "sigma = 2\n",
    "mu = 17\n",
    "n = 100\n",
    "def statistic_3():\n",
    "    return (mean_x - mu) / (sigma / np.sqrt(n))"
   ]
  },
  {
   "cell_type": "code",
   "execution_count": 101,
   "id": "7cace765-af68-43bb-a63d-8226e1651fcc",
   "metadata": {},
   "outputs": [
    {
     "data": {
      "text/plain": [
       "2.5"
      ]
     },
     "execution_count": 101,
     "metadata": {},
     "output_type": "execute_result"
    }
   ],
   "source": [
    "S = statistic_3()\n",
    "S"
   ]
  },
  {
   "cell_type": "code",
   "execution_count": 102,
   "id": "3602f7ff-1d18-4579-b36f-a0c9c87b001a",
   "metadata": {},
   "outputs": [],
   "source": [
    "alpha = 0.025"
   ]
  },
  {
   "cell_type": "code",
   "execution_count": 103,
   "id": "2e0dde14-3d3b-4fe9-8429-2d93090dabb2",
   "metadata": {},
   "outputs": [
    {
     "data": {
      "text/plain": [
       "1.959963984540054"
      ]
     },
     "execution_count": 103,
     "metadata": {},
     "output_type": "execute_result"
    }
   ],
   "source": [
    "t_right = stats.norm.ppf(1 - alpha)\n",
    "\n",
    "t_right"
   ]
  },
  {
   "cell_type": "markdown",
   "id": "3fae5f64-1c5b-40f3-a68b-1dd7934559d5",
   "metadata": {},
   "source": [
    "Значение статистики попало в критическую область, значит, гипотеза отвергается"
   ]
  },
  {
   "cell_type": "markdown",
   "id": "73b3110c-2933-4cf8-a907-a418635b74ac",
   "metadata": {},
   "source": [
    "__Задача 4 (Дополнительно)__\n",
    "\n",
    "Дана выборка диаметров подшипников из примера 1 с занятия 5:\n",
    "\n",
    "samples = [0.6603, 0.9466, 0.5968, 1.3792, 1.5481, 0.7515, 1.0681, 1.1134,\n",
    "1.2088, 1.701 , 1.0282, 1.3579, 1.0191, 1.1784, 1.1168, 1.1372,\n",
    "0.7273, 1.3958, 0.8665, 1.5112, 1.161 , 1.0232, 1.0865, 1.02 ]\n",
    "\n",
    "Предполагая, что диаметры подшипников распределены нормально, проверьте гипотезу о том, что дисперсия случайной величины равна 0.0625 при уровне значимости alpha = 0.05. Что для этого нужно знать:\n",
    "1. Альтернативная гипотеза двухсторонняя.\n",
    "2. Статистика для теста: H = (n - 1) * sample_variance / variance, где n - число элементов в выборке, sample_variance - несмещённая оценка дисперсии, variance - утверждаемая нулевой гипотезой дисперсия.\n",
    "3. Эта статистика в предположении верности нулевой гипотезы имеет распределение хи-квадрат с параметром df = n - 1. Её квантили можно найти с помощью функции scipy.stats.chi2.ppf."
   ]
  },
  {
   "cell_type": "markdown",
   "id": "a71dec7f-6448-4e74-80b4-c080b81b84d5",
   "metadata": {},
   "source": [
    "Нулевая гипотеза Н0: variance = 0.0625.\n",
    "\n",
    "Альтернативная гипотеза Н1: variance <> 0.0625"
   ]
  },
  {
   "cell_type": "code",
   "execution_count": 105,
   "id": "5af86a91-df27-4c3b-b62b-9df01d8ac297",
   "metadata": {},
   "outputs": [],
   "source": [
    "samples = np.array([0.6603, 0.9466, 0.5968, 1.3792, 1.5481, 0.7515, 1.0681, 1.1134,\n",
    "1.2088, 1.701 , 1.0282, 1.3579, 1.0191, 1.1784, 1.1168, 1.1372,\n",
    "0.7273, 1.3958, 0.8665, 1.5112, 1.161 , 1.0232, 1.0865, 1.02 ])"
   ]
  },
  {
   "cell_type": "code",
   "execution_count": 109,
   "id": "620ad599-4c39-4aad-963f-92b6b3911f4e",
   "metadata": {},
   "outputs": [
    {
     "data": {
      "text/plain": [
       "(1.1084541666666665, 0.25, 24)"
      ]
     },
     "execution_count": 109,
     "metadata": {},
     "output_type": "execute_result"
    }
   ],
   "source": [
    "mean_x = samples.mean()\n",
    "variance = 0.0625\n",
    "sigma = math.sqrt(variance)\n",
    "alpha = 0.05\n",
    "n = samples.shape[0]\n",
    "mean_x, sigma, n"
   ]
  },
  {
   "cell_type": "markdown",
   "id": "597d81a6-10dd-4ed6-b8e5-c7925c14bae6",
   "metadata": {},
   "source": [
    "Находим критическую область, используя формулу для квантилей распределения хи-квадрат:"
   ]
  },
  {
   "cell_type": "code",
   "execution_count": 112,
   "id": "a016fd25-64df-4b1a-ae60-8f70cb0acabe",
   "metadata": {},
   "outputs": [
    {
     "data": {
      "text/plain": [
       "(11.688551922452438, 38.0756272503558)"
      ]
     },
     "execution_count": 112,
     "metadata": {},
     "output_type": "execute_result"
    }
   ],
   "source": [
    "t1 = stats.chi2.ppf(alpha/2, df=n - 1)\n",
    "t2 = stats.chi2.ppf(1 - alpha/2, df=n - 1)\n",
    "\n",
    "t1, t2"
   ]
  },
  {
   "cell_type": "markdown",
   "id": "4bf7b59b-3ff6-4ed1-887b-0c395a711ec2",
   "metadata": {},
   "source": [
    " Находим статистику H = (n - 1) * sample_variance (несмещённая оценка дисперсии) / variance (дисперсия) для обозначенных условий:"
   ]
  },
  {
   "cell_type": "code",
   "execution_count": 114,
   "id": "a169d339-1ffd-4916-b3fc-c5e61e93d31f",
   "metadata": {},
   "outputs": [
    {
     "data": {
      "text/plain": [
       "28.720541753333343"
      ]
     },
     "execution_count": 114,
     "metadata": {},
     "output_type": "execute_result"
    }
   ],
   "source": [
    "sample_variance = samples.var(ddof=1)\n",
    "H = (n - 1) * sample_variance / variance\n",
    "\n",
    "H"
   ]
  },
  {
   "cell_type": "markdown",
   "id": "7c3ed01a-c11e-4eea-88ae-331ff1505c25",
   "metadata": {},
   "source": [
    "Значение статистики не попало в критическую область, значит, гипотеза остаётся в силе"
   ]
  },
  {
   "cell_type": "code",
   "execution_count": null,
   "id": "eb9a436e-3d08-460c-a10d-83a68b0b1f26",
   "metadata": {},
   "outputs": [],
   "source": []
  }
 ],
 "metadata": {
  "kernelspec": {
   "display_name": "Python 3",
   "language": "python",
   "name": "python3"
  },
  "language_info": {
   "codemirror_mode": {
    "name": "ipython",
    "version": 3
   },
   "file_extension": ".py",
   "mimetype": "text/x-python",
   "name": "python",
   "nbconvert_exporter": "python",
   "pygments_lexer": "ipython3",
   "version": "3.9.1"
  }
 },
 "nbformat": 4,
 "nbformat_minor": 5
}
