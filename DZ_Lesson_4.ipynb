{
 "cells": [
  {
   "cell_type": "markdown",
   "id": "2594e3e2-bae4-470c-a257-e4b3e8a6831b",
   "metadata": {},
   "source": [
    "__Задача 1__\n",
    "\n",
    "О непрерывной равномерно распределенной случайной величине B известно, что ее дисперсия равна 0.2. Можно ли найти правую границу величины B и ее среднее значение зная, что левая граница равна 0.5? Если да, найдите ее."
   ]
  },
  {
   "cell_type": "markdown",
   "id": "21ab9587-8f45-4c2b-a043-83428cdc4ff5",
   "metadata": {},
   "source": [
    "Исходя из формулы дисперсии равномерного распределения D(X) = ((b - a)**2) / 12 находим неизвестную правую границу: b ** 2 - b - 6.25 = 0"
   ]
  },
  {
   "cell_type": "code",
   "execution_count": 1,
   "id": "22350a6b-dbd0-46ac-aef4-d11335843085",
   "metadata": {},
   "outputs": [
    {
     "name": "stdout",
     "output_type": "stream",
     "text": [
      "b1 = 3.0495097567963922, b2 = -2.0495097567963922\n"
     ]
    }
   ],
   "source": [
    "import math\n",
    "\n",
    "discr = (-1) ** 2 - 4 * 1 * (-6.25)\n",
    "if discr > 0:\n",
    "    b1 = (1 + math.sqrt(discr)) / (2 * 1)\n",
    "    b2 = (1 - math.sqrt(discr)) / (2 * 1)\n",
    "    print(f'b1 = {b1}, b2 = {b2}')\n",
    "elif discr == 0:\n",
    "    b = 1 / (2 * 1)\n",
    "    print(f'b = {b}')\n",
    "else:\n",
    "    print('Нет корней')"
   ]
  },
  {
   "cell_type": "markdown",
   "id": "df47ed4b-47fd-462e-af32-1c74927c477f",
   "metadata": {},
   "source": [
    " Так как левая граница (а = 0.5) > 0, то и правая граница должна быть > 0. Следовательно, правая граница b = b1"
   ]
  },
  {
   "cell_type": "markdown",
   "id": "56f6dff8-76db-4832-b01a-d9282e05aa8c",
   "metadata": {},
   "source": [
    "Математическое ожидание равномерно распределенной случайной величины M = (a + b) / 2"
   ]
  },
  {
   "cell_type": "code",
   "execution_count": 2,
   "id": "a154b371-9fa2-41b1-b2d7-9403fdef23bb",
   "metadata": {},
   "outputs": [
    {
     "data": {
      "text/plain": [
       "1.7747548783981961"
      ]
     },
     "execution_count": 2,
     "metadata": {},
     "output_type": "execute_result"
    }
   ],
   "source": [
    "a = 0.5\n",
    "b = b1\n",
    "M_x = (a + b) / 2\n",
    "M_x"
   ]
  },
  {
   "cell_type": "markdown",
   "id": "5da872c6-13f9-4ce1-b7d0-f2e93d536103",
   "metadata": {},
   "source": [
    "__Задача 2__\n",
    "\n",
    "Рост взрослого населения города X имеет нормальное распределение, причем, средний рост равен 174 см, а среднее квадратическое отклонение равно 8 см. посчитайте, какова вероятность того, что случайным образом выбранный взрослый человек имеет рост:\n",
    "1. больше 182 см?\n",
    "2. больше 190 см?\n",
    "3. от 166 см до 190 см?\n",
    "4. от 166 см до 182 см?\n",
    "5. от 158 см до 190 см?\n",
    "6. не выше 150 см или не ниже 190 см?\n",
    "7. не выше 150 см или не ниже 198 см?\n",
    "8. ниже 166 см?"
   ]
  },
  {
   "cell_type": "code",
   "execution_count": 3,
   "id": "9d12ebe1-d9a2-40f8-94e1-f4454acc63c6",
   "metadata": {},
   "outputs": [],
   "source": [
    "from scipy import stats\n",
    "import warnings\n",
    "import statistics as sts\n",
    "import numpy as np\n",
    "import pandas as pd\n",
    "from matplotlib import pyplot as plt"
   ]
  },
  {
   "cell_type": "markdown",
   "id": "26f069f3-4d44-4be7-84eb-582fa5949606",
   "metadata": {},
   "source": [
    " Согласно правилу 3-х сигм: на отрезке от  −σ  до  +σ  расположено около 68 % наблюдений, от  −2σ  до  +2σ  — 95.4 %, от  −3σ  до  +3σ  — 99.72 %. "
   ]
  },
  {
   "cell_type": "markdown",
   "id": "c8920e11-67c3-4e59-92c8-190844443526",
   "metadata": {},
   "source": [
    "Найдём разброс роста от −σ до +σ:"
   ]
  },
  {
   "cell_type": "code",
   "execution_count": 15,
   "id": "2146ef29-d0e1-4aed-bbc3-f84b9c0d1575",
   "metadata": {},
   "outputs": [
    {
     "data": {
      "text/plain": [
       "'[166 - 182]'"
      ]
     },
     "execution_count": 15,
     "metadata": {},
     "output_type": "execute_result"
    }
   ],
   "source": [
    "height_mean = 174\n",
    "sigma = 8\n",
    "a = (-1) * sigma \n",
    "b = sigma \n",
    "sigma_1 = f'[{a + height_mean} - {b + height_mean}]'\n",
    "sigma_1"
   ]
  },
  {
   "cell_type": "markdown",
   "id": "60252b58-aeab-4077-a85f-9393a0d69fbd",
   "metadata": {},
   "source": [
    "Найдём разброс роста от −2σ до +2σ:"
   ]
  },
  {
   "cell_type": "code",
   "execution_count": 16,
   "id": "310631c6-5dfb-4ce9-a872-0597ae3a4aa0",
   "metadata": {},
   "outputs": [
    {
     "data": {
      "text/plain": [
       "'[158 - 190]'"
      ]
     },
     "execution_count": 16,
     "metadata": {},
     "output_type": "execute_result"
    }
   ],
   "source": [
    "sigma_2 = f'[{2 * a + height_mean} - {2 * b + height_mean}]'\n",
    "sigma_2"
   ]
  },
  {
   "cell_type": "markdown",
   "id": "0c90f79c-d429-4ec7-8d43-4f1d121afbfd",
   "metadata": {},
   "source": [
    "Найдём разброс роста от −2σ до +2σ:"
   ]
  },
  {
   "cell_type": "code",
   "execution_count": 17,
   "id": "dc581efb-37fe-41db-bb39-09253189ad9e",
   "metadata": {},
   "outputs": [
    {
     "data": {
      "text/plain": [
       "'[150 - 198]'"
      ]
     },
     "execution_count": 17,
     "metadata": {},
     "output_type": "execute_result"
    }
   ],
   "source": [
    "sigma_3 = f'[{3 * a + height_mean} - {3 * b + height_mean}]'\n",
    "sigma_3"
   ]
  },
  {
   "cell_type": "markdown",
   "id": "e2da6253-c3db-4a03-bce2-db0630761cc3",
   "metadata": {},
   "source": [
    "1. больше 182 см? = (100% - 68% {т.к. рост находится за пределами отрезка от −σ до +σ}) / 2 {выбираем одну из сторон вне отрезка [-σ;+σ], а именно правую} = __16.0%__\n",
    "2. больше 190 см? = (100% - 95.4% {т.к. рост находится за пределами отрезка от −2σ до +2σ}) / 2 {выбираем одну из сторон вне отрезка [-2σ;+2σ], а именно правую} = __2.3%__\n",
    "3. от 166 см до 190 см? = (68% {т.к. отправная точка роста находится внутри  отрезка от −σ до +σ}) + (95.4% - 68%)  / 2 {расчитываем вероятность нахождения на одной из сторон вне отрезка [-σ;+σ], а именно правой} = __81.7%__\n",
    "4. от 166 см до 182 см? = __68.0%__{т.к. интервал роста находится внутри  отрезка от −σ до +σ}\n",
    "5. от 158 см до 190 см? = (68% + (95.4% - 68%)  / 2 {т.к. отправная точка роста находится внутри отрезка от −2σ до +2σ и слева от  отрезка [-σ;+σ]}) + (95.4% - 68%)  / 2 {расчитываем вероятность нахождения на одной из сторон вне отрезка [-σ;+σ], а именно правой} = __95.4%__\n",
    "6. не выше 150 см или не ниже 190 см? = (100% - 99.72%)  / 2 {т.к. отправная точка роста находится внутри отрезка [-3σ;+3σ] и слева от  отрезка [-2σ;+2σ]}) + (100% - 95.4%)  / 2 {расчитываем вероятность нахождения роста справа от отрезка [-σ;+σ]} = __2.44%__\n",
    "7. не выше 150 см или не ниже 198 см? = (100% - 99.72%)  / 2 {т.к. отправная точка роста находится внутри отрезка [-3σ;+3σ] и слева от  отрезка [-2σ;+2σ]}) + (100% - 99.72%)  / 2 {расчитываем вероятность нахождения роста справа от отрезка [-2σ;+2σ]} = __0.28%__\n",
    "8. ниже 166 см? = (100% - 68% {т.к. рост находится за пределами отрезка от −σ до +σ}) / 2 {выбираем одну из сторон вне отрезка [-σ;+σ], а именно левую} = __16.0%__"
   ]
  },
  {
   "cell_type": "code",
   "execution_count": 31,
   "id": "5c208e72-f3db-42e2-b7b2-db0bf40a101c",
   "metadata": {},
   "outputs": [
    {
     "data": {
      "text/plain": [
       "[<matplotlib.lines.Line2D at 0x1a11d42a640>]"
      ]
     },
     "execution_count": 31,
     "metadata": {},
     "output_type": "execute_result"
    },
    {
     "data": {
      "image/png": "[encoded data removed]",
      "text/plain": [
       "<Figure size 432x288 with 1 Axes>"
      ]
     },
     "metadata": {
      "needs_background": "light"
     },
     "output_type": "display_data"
    }
   ],
   "source": [
    "ox = np.linspace(150, 198, 1000)\n",
    "oy = stats.norm.cdf(ox, loc=174, scale=8)\n",
    "plt.plot(ox, oy)"
   ]
  },
  {
   "cell_type": "code",
   "execution_count": 32,
   "id": "63c0e83c-73b1-4c10-b275-0d8bb100d611",
   "metadata": {},
   "outputs": [],
   "source": [
    "norm = stats.norm(loc=174, scale=8)"
   ]
  },
  {
   "cell_type": "code",
   "execution_count": 41,
   "id": "4ac22ed8-1aac-4feb-bf48-c87642ba1ab5",
   "metadata": {},
   "outputs": [
    {
     "name": "stdout",
     "output_type": "stream",
     "text": [
      "Вероятность иметь рост больше 182 см = 0.15865525393145707\n"
     ]
    }
   ],
   "source": [
    "print(f'Вероятность иметь рост больше 182 см = {1 - norm.cdf(182)}')"
   ]
  },
  {
   "cell_type": "code",
   "execution_count": 42,
   "id": "b76c7623-200a-488b-99d9-c2b219908cd6",
   "metadata": {},
   "outputs": [
    {
     "name": "stdout",
     "output_type": "stream",
     "text": [
      "Вероятность иметь рост больше 190 см = 0.02275013194817921\n"
     ]
    }
   ],
   "source": [
    "print(f'Вероятность иметь рост больше 190 см = {1 - norm.cdf(190)}')"
   ]
  },
  {
   "cell_type": "code",
   "execution_count": 43,
   "id": "2e102dd2-5402-4728-a5a8-e837ca1fdc86",
   "metadata": {},
   "outputs": [
    {
     "name": "stdout",
     "output_type": "stream",
     "text": [
      "Вероятность иметь рост от 166 см до 190 см = 0.8185946141203637\n"
     ]
    }
   ],
   "source": [
    "print(f'Вероятность иметь рост от 166 см до 190 см = {norm.cdf(190) - norm.cdf(166)}')"
   ]
  },
  {
   "cell_type": "code",
   "execution_count": 44,
   "id": "f90c863b-383e-47d8-b8ca-d2914b60b62e",
   "metadata": {},
   "outputs": [
    {
     "name": "stdout",
     "output_type": "stream",
     "text": [
      "Вероятность иметь рост от 166 см до 182 см = 0.6826894921370859\n"
     ]
    }
   ],
   "source": [
    "print(f'Вероятность иметь рост от 166 см до 182 см = {norm.cdf(182) - norm.cdf(166)}')"
   ]
  },
  {
   "cell_type": "code",
   "execution_count": 45,
   "id": "544e047d-2966-4966-9327-2b83175b5f61",
   "metadata": {},
   "outputs": [
    {
     "name": "stdout",
     "output_type": "stream",
     "text": [
      "Вероятность иметь рост от 158 см до 190 см = 0.9544997361036416\n"
     ]
    }
   ],
   "source": [
    "print(f'Вероятность иметь рост от 158 см до 190 см = {norm.cdf(190) - norm.cdf(158)}')"
   ]
  },
  {
   "cell_type": "code",
   "execution_count": 48,
   "id": "14cb9e0b-1a0f-4855-9f51-b9445ddf289a",
   "metadata": {},
   "outputs": [
    {
     "name": "stdout",
     "output_type": "stream",
     "text": [
      "Вероятность иметь рост не выше 150 см или не ниже 190 см = 0.0241000299798092\n"
     ]
    }
   ],
   "source": [
    "print(f'Вероятность иметь рост не выше 150 см или не ниже 190 см = {norm.cdf(150) + 1 - norm.cdf(190)}')"
   ]
  },
  {
   "cell_type": "code",
   "execution_count": 49,
   "id": "2058f8ef-e2f8-4eb4-a901-38d637ec5e49",
   "metadata": {},
   "outputs": [
    {
     "name": "stdout",
     "output_type": "stream",
     "text": [
      "Вероятность иметь рост не выше 150 см или не ниже 190 см = 0.002699796063260096\n"
     ]
    }
   ],
   "source": [
    "print(f'Вероятность иметь рост не выше 150 см или не ниже 190 см = {norm.cdf(150) + 1 - norm.cdf(198)}')"
   ]
  },
  {
   "cell_type": "code",
   "execution_count": 47,
   "id": "5a273e0b-740f-4f8f-9a70-9c5a8d071a7e",
   "metadata": {},
   "outputs": [
    {
     "name": "stdout",
     "output_type": "stream",
     "text": [
      "Вероятность иметь рост не выше 166 см = 0.15865525393145707\n"
     ]
    }
   ],
   "source": [
    "print(f'Вероятность иметь рост не выше 166 см = {norm.cdf(166)}')"
   ]
  },
  {
   "cell_type": "markdown",
   "id": "669117a9-6150-4d41-95db-6cd0e1316fdc",
   "metadata": {},
   "source": [
    "__Задача 3__ (Дополнительно)\n",
    "\n",
    "Коробки с шоколадом упаковываются автоматически. Их средняя масса равна 1.06 кг. Известно, что 5% коробок имеют массу, меньшую 1 кг. Найдите: а) среднее квадратическое отклонение массы коробки, б) процент коробок, имеющих массу больше 1.1 кг.\n",
    "\n",
    "Подсказка. 1. Можно считать, что распределение массы коробки нормальное. 2. Найдите такое значение scale, для которого значение cdf(x=1, loc=1.06, scale=scale) близко к 0.05. Точности 0.0001 будет достаточно."
   ]
  },
  {
   "cell_type": "markdown",
   "id": "b4a43366-09d8-4d18-a2a7-06c06e512d27",
   "metadata": {},
   "source": [
    "а) Сначала найдём среднее квадратическое отклонение массы коробки путём перебора с использованием цикла while:"
   ]
  },
  {
   "cell_type": "code",
   "execution_count": 102,
   "id": "0c2525f8-ac32-4822-8761-2e6a3437888d",
   "metadata": {},
   "outputs": [
    {
     "name": "stdout",
     "output_type": "stream",
     "text": [
      "0.03650000000000002\n"
     ]
    }
   ],
   "source": [
    "scale = 0.0001\n",
    "norm1 = stats.norm(loc=1.06, scale=scale)\n",
    "while norm1.cdf(1) < 0.05:\n",
    "    scale += 0.0001\n",
    "    norm1 = stats.norm(loc=1.06, scale=scale)\n",
    "    norm1.cdf(1)\n",
    "print(scale)"
   ]
  },
  {
   "cell_type": "code",
   "execution_count": 103,
   "id": "2baf9f69-45d1-4591-a4aa-14650baf6652",
   "metadata": {},
   "outputs": [
    {
     "data": {
      "text/plain": [
       "[<matplotlib.lines.Line2D at 0x1a11c338280>]"
      ]
     },
     "execution_count": 103,
     "metadata": {},
     "output_type": "execute_result"
    },
    {
     "data": {
      "image/png": "[encoded data removed]",
      "text/plain": [
       "<Figure size 432x288 with 1 Axes>"
      ]
     },
     "metadata": {
      "needs_background": "light"
     },
     "output_type": "display_data"
    }
   ],
   "source": [
    "ox = np.linspace(0.90, 1.15, 1000)\n",
    "oy = stats.norm.cdf(ox, loc=1.06, scale=0.0365)\n",
    "plt.plot(ox, oy)"
   ]
  },
  {
   "cell_type": "code",
   "execution_count": 104,
   "id": "8e532e53-c356-412d-9534-0ef4d01e7e57",
   "metadata": {},
   "outputs": [
    {
     "data": {
      "text/plain": [
       "0.05010508110149495"
      ]
     },
     "execution_count": 104,
     "metadata": {},
     "output_type": "execute_result"
    }
   ],
   "source": [
    "norm1 = stats.norm(loc=1.06, scale=0.0365)\n",
    "norm1.cdf(1)"
   ]
  },
  {
   "cell_type": "markdown",
   "id": "02e0eb0c-3e13-4ed2-8d46-0d27b6eec501",
   "metadata": {},
   "source": [
    "б) Найдём процент коробок, имеющих массу больше 1.1 кг:"
   ]
  },
  {
   "cell_type": "code",
   "execution_count": 106,
   "id": "10318ef9-f84e-465b-ad83-ecdee5bc5b1c",
   "metadata": {},
   "outputs": [
    {
     "name": "stdout",
     "output_type": "stream",
     "text": [
      "Процент коробок, имеющих массу больше 1.1 кг = 13.656336797447754\n"
     ]
    }
   ],
   "source": [
    "print(f'Процент коробок, имеющих массу больше 1.1 кг = {100 * (1 - norm1.cdf(1.1))}')"
   ]
  },
  {
   "cell_type": "code",
   "execution_count": null,
   "id": "f5e975d7-e667-4ca3-855b-9f7e434419d5",
   "metadata": {},
   "outputs": [],
   "source": []
  }
 ],
 "metadata": {
  "kernelspec": {
   "display_name": "Python 3",
   "language": "python",
   "name": "python3"
  },
  "language_info": {
   "codemirror_mode": {
    "name": "ipython",
    "version": 3
   },
   "file_extension": ".py",
   "mimetype": "text/x-python",
   "name": "python",
   "nbconvert_exporter": "python",
   "pygments_lexer": "ipython3",
   "version": "3.9.1"
  }
 },
 "nbformat": 4,
 "nbformat_minor": 5
}
